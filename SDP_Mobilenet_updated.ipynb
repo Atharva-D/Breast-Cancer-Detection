{
  "nbformat": 4,
  "nbformat_minor": 0,
  "metadata": {
    "colab": {
      "name": "SDP_Mobilenet.ipynb",
      "provenance": [],
      "authorship_tag": "ABX9TyOpr9O8htfjGqglRSkwsUPZ",
      "include_colab_link": true
    },
    "kernelspec": {
      "name": "python3",
      "display_name": "Python 3"
    },
    "language_info": {
      "name": "python"
    }
  },
  "cells": [
    {
      "cell_type": "markdown",
      "metadata": {
        "id": "view-in-github",
        "colab_type": "text"
      },
      "source": [
        "<a href=\"https://colab.research.google.com/github/Atharva-D/Breast-Cancer-Detection/blob/main/SDP_Mobilenet_updated.ipynb\" target=\"_parent\"><img src=\"https://colab.research.google.com/assets/colab-badge.svg\" alt=\"Open In Colab\"/></a>"
      ]
    },
    {
      "cell_type": "code",
      "execution_count": 1,
      "metadata": {
        "colab": {
          "base_uri": "https://localhost:8080/"
        },
        "id": "iRPmODYLwbVM",
        "outputId": "62054c2e-ec7d-47d1-cde1-8db23609eda5"
      },
      "outputs": [
        {
          "output_type": "stream",
          "name": "stdout",
          "text": [
            "Mounted at /content/gdrive\n"
          ]
        }
      ],
      "source": [
        "from google.colab import drive\n",
        "drive.mount(\"/content/gdrive\")"
      ]
    },
    {
      "cell_type": "code",
      "source": [
        "import pandas as pd\n",
        "import numpy as np\n",
        "import matplotlib.pyplot as plt\n",
        "from PIL import *\n",
        "from tkinter import *\n",
        "from PIL import ImageTk, Image\n",
        "import PIL.Image\n",
        "from matplotlib.patches import Circle\n",
        "import os\n",
        "import sys\n",
        "# path manipulation\n",
        "from pathlib import Path\n",
        "# regex\n",
        "import re\n",
        "# plotting\n",
        "import matplotlib.pyplot as plt\n",
        "import matplotlib.image as mpimg\n",
        "from matplotlib.patches import Circle\n",
        "# data manipulation / preparation\n",
        "import numpy as np\n",
        "import pandas as pd\n",
        "from sklearn.model_selection import train_test_split\n",
        "from tensorflow.keras.preprocessing.image import ImageDataGenerator\n",
        "# image manipulation\n",
        "\n",
        "from PIL import Image\n",
        "from IPython.display import Image\n",
        "# metrics\n",
        "from sklearn.metrics import confusion_matrix, classification_report\n",
        "# keras\n",
        "from tensorflow.keras.models import Sequential\n",
        "from tensorflow.keras.layers import Conv2D, Dense, Flatten, MaxPool2D, Dropout\n",
        "from tensorflow.keras.utils import plot_model\n",
        "from tensorflow.keras.callbacks import EarlyStopping, ModelCheckpoint\n",
        "from tensorflow.keras.optimizers import Adam\n"
      ],
      "metadata": {
        "id": "p1PQIdrZw6Xo"
      },
      "execution_count": 2,
      "outputs": []
    },
    {
      "cell_type": "code",
      "source": [
        "class MammoScan:\n",
        "    def __init__(self, scan, sc_info):\n",
        "        self.__scan = scan\n",
        "        self.__sc_info = sc_info\n",
        "    \n",
        "    @property # scan image\n",
        "    def scan(self):\n",
        "        return self.__scan\n",
        "    \n",
        "    @property # scan info\n",
        "    def scan_info(self):\n",
        "        return self.__sc_info\n",
        "    \n",
        "    @property # from the scan file name\n",
        "    def scan_name(self):\n",
        "        return self.__sc_info.name\n",
        "    \n",
        "    @property # x coordinate of the abnormality\n",
        "    def x(self):\n",
        "        return self.__sc_info.x\n",
        "    \n",
        "    @property # y coordinate of the abnormality\n",
        "    def y(self):\n",
        "        return self.__sc_info.y\n",
        "    \n",
        "    @property # radius of the abnormality\n",
        "    def radius(self):\n",
        "        return self.__sc_info.radius\n",
        "\n",
        "    @property # class of the abnormality\n",
        "    def ab_class(self):\n",
        "        return self.__sc_info.ab_class\n",
        "    \n",
        "    @property # background tissue of the abnormality\n",
        "    def bg(self):\n",
        "        return self.__sc_info.bg\n",
        "    \n",
        "    @property # severity of the abnormality\n",
        "    def severity(self):\n",
        "        return self.__sc_info.severity\n",
        "\n",
        "    @property \n",
        "    # generates cropped downsized rotated images of the abnormality\n",
        "    def transformations(self):\n",
        "        return self.__transform()\n",
        "    \n",
        "    @property\n",
        "    # returns the matricial representation fo the scan image\n",
        "    def pixel_matrix(self):\n",
        "        return np.array(self.scan)\n",
        "    \n",
        "    # instance method\n",
        "    def plot(self):\n",
        "\n",
        "        # Create a figure. Equal aspect so circles look circular\n",
        "        fig, ax = plt.subplots(1)\n",
        "\n",
        "        fig.set_size_inches(8, 6)\n",
        "        ax.set_aspect('equal')\n",
        "\n",
        "        # Show the image\n",
        "        ax.imshow(self.scan, cmap=plt.cm.gray_r)\n",
        "        ax.set_ylim(bottom=0, top=1024)\n",
        "        ax.set_title(self.scan_name)\n",
        "        \n",
        "\n",
        "        # create a circle to patch on the image\n",
        "        x, y, r = self.__get_crop_coords()\n",
        "        print(f'{x}, {y}, {r}')\n",
        "        circ = Circle((x,y), r, fill=False)\n",
        "        ax.add_patch(circ)\n",
        "    \n",
        "    # private method\n",
        "    def __set_x(self, xValue):\n",
        "        self.__sc_info.x = xValue\n",
        "    \n",
        "    # private method\n",
        "    def __set_y(self, yValue):\n",
        "        self.__sc_info.y = yValue\n",
        "    \n",
        "    # private method\n",
        "    def __set_radius(self, rValue):\n",
        "        self.__sc_info.radius = rValue\n",
        "        \n",
        "    # private method\n",
        "    def __get_crop_coords(self):\n",
        "        '''Returns a tuple with x, y and r'''\n",
        "        # check scan class to decide on how to crop\n",
        "        if pd.isnull(self.radius):\n",
        "            radius = 48.0\n",
        "            self.__set_radius(radius)\n",
        "        if pd.isnull(self.x):\n",
        "            x = float(np.random.randint(500, 513))\n",
        "            self.__set_x(x)\n",
        "        if pd.isnull(self.y):\n",
        "            y = float(np.random.randint(500, 513))\n",
        "            self.__set_y(y)\n",
        "            \n",
        "        return (self.x, 1024.0-self.y, self.radius)\n",
        "    \n",
        "    # private method\n",
        "    def __transform(self):\n",
        "        '''Creates a dict \n",
        "                  with rotated and mirrored versions of self.scan'''\n",
        "        # create dictionary\n",
        "        transformations = dict()\n",
        "        # get crop values\n",
        "        x, y, r = self.__get_crop_coords()\n",
        "        # crop and resize scan\n",
        "        cropped_scan = self.scan.crop((x-r, y-r, x+r, y+r))\n",
        "        resized_scan = cropped_scan.resize((256,256))\n",
        "        # create rotated images\n",
        "        for angle in (0, 90, 180, 270):\n",
        "            rotated = resized_scan.rotate(angle) # rotated by angle\n",
        "            mirr_tp = rotated.transpose(PIL.Image.FLIP_TOP_BOTTOM)\n",
        "            mirr_lr = rotated.transpose(PIL.Image.FLIP_LEFT_RIGHT)\n",
        "            \n",
        "            transformations[angle] = dict(zip(['rotated', 'mirr_lr', 'mirr_tp'], \n",
        "                                              [rotated, mirr_lr, mirr_tp]))\n",
        "\n",
        "        return transformations"
      ],
      "metadata": {
        "id": "uY8hW_c2w-bZ"
      },
      "execution_count": 3,
      "outputs": []
    },
    {
      "cell_type": "code",
      "source": [
        "def clean_ds_files(df: pd.DataFrame) -> pd.DataFrame:\n",
        "    '''Removes records with invalid data\n",
        "         and cast x and y to float'''\n",
        "    new_df = df.copy()\n",
        "    # search for invalid x values for removal\n",
        "    indices = new_df.x[lambda x: x == '*NOTE'].index\n",
        "    \n",
        "    for idx in indices:\n",
        "        n_idx = new_df.index.get_loc(idx)\n",
        "        # drop from dataset\n",
        "        new_df.drop(new_df.index[n_idx], inplace=True)\n",
        "        # delete from directory\n",
        "        delete_image(idx)\n",
        "\n",
        "    # make x and y float values\n",
        "    new_df.x = new_df.x.astype(float)\n",
        "    new_df.y = new_df.y.astype(float)\n",
        "    \n",
        "    return new_df\n",
        "\n",
        "\n",
        "def delete_image(filename: str, directory='/content/gdrive/MyDrive/SDP/all-mias/'):\n",
        "    '''Deletes original image files that won't be initially used'''\n",
        "    paths = Path(directory).glob('**/*.pgm')\n",
        "    filename += '.pgm'\n",
        "    for f_path in sorted(paths):\n",
        "        try:\n",
        "            if f_path.name == filename:\n",
        "                os.remove(f_path)\n",
        "                break\n",
        "        except FileNotFoundError as fnf:\n",
        "            print('{fnf}') \n",
        "            \n",
        "            \n",
        "def create_scan_filenames_dic(path: str) -> dict:\n",
        "    '''Creates a dictionary with image filenames'''\n",
        "    paths = Path(path).glob('**/*.pgm')\n",
        "    img_dic = dict()\n",
        "    for f_path in sorted(paths):\n",
        "        # get full filename\n",
        "        full_fname = f_path.name\n",
        "        # get filename (no extension)\n",
        "        filename = f_path.stem\n",
        "        # create dictionary\n",
        "        img_dic[filename] = f_path.as_posix()\n",
        "    \n",
        "    return img_dic\n",
        "        \n",
        "\n",
        "def save_subsamples(scans_dic: dict(), df: pd.DataFrame) -> pd.DataFrame:\n",
        "    '''Save subsamples to the subsamples folder'''\n",
        "    # define subsamples folder\n",
        "    folder = '../subsamples'\n",
        "    df_sub = pd.DataFrame()\n",
        "    try:\n",
        "        # create if not yet\n",
        "        if not os.path.exists(folder):\n",
        "            os.mkdir(folder)\n",
        "    except:\n",
        "        print('An error occurred when searching for the folder')\n",
        "        \n",
        "    # iterate dictionary of filenames\n",
        "    for scan_name, filename in scans_dic.items():\n",
        "        \n",
        "        # create image and scan info objects\n",
        "        try:\n",
        "            scan = PIL.Image.open(filename)\n",
        "        except FileNotFoundError as fnf:\n",
        "            print({fnf})\n",
        "            \n",
        "        scan_info = df.loc[scan_name].copy()\n",
        "        # create the MammoScan object\n",
        "        m_scan = MammoScan(scan, scan_info)\n",
        "        # get the transformations\n",
        "        transf_scans = m_scan.transformations\n",
        "        # create filenames\n",
        "        filenames = create_subsample_filename(scan_name, transf_scans)\n",
        "        # get transformed scans Image objects\n",
        "        imgs = get_transformed_scans(transf_scans)\n",
        "        # prepare for saving\n",
        "        fs_and_is = list(zip(filenames, imgs))\n",
        "        \n",
        "        for filename, image in fs_and_is:\n",
        "            # create new observation with subsample name\n",
        "            # name the series to become an index in the new dataframe\n",
        "            scan_info.name = re.match(r'(.*)\\.[^.]+$', filename).group(1)\n",
        "            # create pixel matrix\n",
        "            pixel_matrix = np.asarray(image)\n",
        "            \n",
        "            scan_info['p_matrix'] = pixel_matrix\n",
        "            \n",
        "            scan_info['subsample_path'] = os.path.join('../subsamples', filename)\n",
        "\n",
        "            # append to dataframe\n",
        "            df_sub = df_sub.append(scan_info.loc[['ab_class', 'bg', \n",
        "                                                  'severity', 'subsample_path',\n",
        "                                                  'p_matrix']])\n",
        "            \n",
        "            #print(scan_name)././\n",
        "            path = os.path.join('../subsamples', filename) \n",
        "            #print(path)\n",
        "            try:\n",
        "                image.save(path, compress_level=0)\n",
        "            except ValueError as ve:\n",
        "                print('Output format could not be determined from the file name.')\n",
        "            except OSError as ose:\n",
        "                print('File could not be written.')\n",
        "                print({ose})\n",
        "        \n",
        "    return df_sub\n",
        "\n",
        "def create_subsample_filename(scan_name: str, transf_dic: dict) -> list:\n",
        "    '''Creates suffix pattern filename for transformed scans'''\n",
        "    filename = ''\n",
        "    file_names = list()\n",
        "    for angle, transfs in transf_dic.items():\n",
        "        for tf in transfs.keys():\n",
        "            filename += f'{scan_name}_{angle}_{tf}.png'\n",
        "            #print(filename)\n",
        "            file_names.append(filename)\n",
        "            filename = ''\n",
        "            \n",
        "    return file_names\n",
        "\n",
        "\n",
        "def get_transformed_scans(transf_dic: dict) -> list:\n",
        "    scans = list()\n",
        "    for angle, transfs in transf_dic.items():\n",
        "        for scan in transfs.values():\n",
        "            scans.append(scan)\n",
        "    \n",
        "    return scans\n",
        "\n",
        "\n",
        "def generate_subsamples(path_to_originals: str, mias_df: pd.DataFrame) -> pd.DataFrame:\n",
        "    ''' Generates the subsamples for training and testing.\n",
        "        Files are saved in ../subsamples\n",
        "        it returns a dataframe with the path to each subsample '''\n",
        "    scans_filenames_dic = create_scan_filenames_dic(path_to_originals)\n",
        "    final = save_subsamples(scans_filenames_dic, mias_df)\n",
        "    return final\n",
        "\n",
        "\n",
        "def balance_by_severity(df: pd.DataFrame, ab_class: str) -> pd.DataFrame:\n",
        "    ''' Balances an abnormality class based on severity '''\n",
        "    # deep copy\n",
        "    df = df.copy()\n",
        "    # if class == NORM, reduce norm to the avg class sample amount\n",
        "    if ab_class == 'NORM':\n",
        "        avg = int(df[df.ab_class != 'NORM'].groupby(['ab_class']).severity.size().mean())\n",
        "        return df[(df.ab_class == ab_class)].sample(avg)   \n",
        "    \n",
        "    sev_counts = df[df.ab_class== ab_class].severity.value_counts()\n",
        "    n_benign = sev_counts.loc['B']\n",
        "    n_malign = sev_counts.loc['M']\n",
        "    \n",
        "    if n_benign > n_malign:\n",
        "        # downsize 'B'\n",
        "        benign = df[(df.ab_class == ab_class) & (df.severity == 'B')].sample(n_malign, replace=False)\n",
        "        malign = df[(df.ab_class == ab_class) & (df.severity == 'M')]\n",
        "    else:\n",
        "        benign = df[(df.ab_class == ab_class) & (df.severity == 'B')]\n",
        "        malign = df[(df.ab_class == ab_class) & (df.severity == 'M')].sample(n_benign, replace=False)\n",
        "        \n",
        "    return pd.concat([benign, malign])\n",
        "\n",
        "\n",
        "def create_mias_dataset(file_path: str) -> pd.DataFrame:\n",
        "    ''' Creates a dataset with the data about the scans '''\n",
        "    # create a dataset\n",
        "    mammo = pd.read_table(file_path, delimiter='\\s', engine='python')\n",
        "    # rename the class column to avoid conflicts with the class keyword in python\n",
        "    mammo.columns = ['refnum', 'bg', 'ab_class', 'severity', 'x', 'y', 'radius']\n",
        "    # fill null severity with A for NORM class\n",
        "    mammo.severity = mammo.severity.fillna('A')\n",
        "    # drop duplicates\n",
        "    mammo.drop_duplicates(subset='refnum', keep='first', inplace=True)\n",
        "    # set refnum as index\n",
        "    mammo.set_index(keys='refnum', drop=True, inplace=True)\n",
        "    # return clean df and delete unuseful images\n",
        "    return clean_ds_files(mammo)\n",
        "\n",
        "def plot_results(acc,val_acc,loss, val_loss):\n",
        "    # create grit\n",
        "    fig, (ax1, ax2) = plt.subplots(nrows = 1,\n",
        "                                   ncols = 2,\n",
        "                                   figsize = (15,6),\n",
        "                                   sharex =True)\n",
        "    \n",
        "    # set plots\n",
        "    plot1 = ax1.plot(range(0, len(acc)),\n",
        "                     acc,\n",
        "                     label = 'accuracy')\n",
        "    \n",
        "    \n",
        "    plot2 = ax1.plot(range(0, len(val_acc)),\n",
        "                     val_acc,\n",
        "                     label = 'val_accuracy')\n",
        "\n",
        "    ax1.set(title = 'Accuracy And Val Accuracy progress',\n",
        "            xlabel = 'epoch',\n",
        "            ylabel = 'accuracy/ validation accuracy')\n",
        "\n",
        "    ax1.legend()\n",
        "\n",
        "    plot3 = ax2.plot(range(0, len(loss)),\n",
        "                     loss,\n",
        "                     label = 'loss')\n",
        "    \n",
        "    plot4 = ax2.plot(range(0, len(val_loss)),\n",
        "                     val_loss,\n",
        "                     label = 'val_loss')\n",
        "    \n",
        "    ax2.set(title = 'Loss And Val loss progress',\n",
        "            xlabel = 'epoch',\n",
        "            ylabel = 'loss/ validation loss')\n",
        "\n",
        "    ax2.legend()\n",
        "\n",
        "    fig.suptitle('Result Of Model', fontsize = 20, fontweight = 'bold')\n",
        "    fig.savefig('Accuracy_Loss_figure.png')\n",
        "    plt.tight_layout()\n",
        "    plt.show()\n",
        "    \n",
        "    \n",
        "def balance_df_by_severity(df: pd.DataFrame) -> pd.DataFrame:\n",
        "    final_df = pd.DataFrame()\n",
        "    for ab_class in df.ab_class.unique():\n",
        "        class_df = balance_by_severity(df, ab_class)\n",
        "        final_df = pd.concat([class_df, final_df])\n",
        "        \n",
        "    return final_df.sample(len(final_df), replace = False)\n",
        "\n",
        "\n",
        "def full_balance_df_by_severity(df: pd.DataFrame) -> pd.DataFrame:\n",
        "    final_df = pd.DataFrame()\n",
        "    for ab_class in df.ab_class.unique():\n",
        "        if ab_class == 'NORM':\n",
        "            class_df = balance_by_severity(df, ab_class).sample(96, replace = False)\n",
        "        else:\n",
        "            class_df = balance_by_severity(df, ab_class)\n",
        "            class_df_B = class_df[class_df.severity == 'B'].sample(48, replace = False)\n",
        "            class_df_A = class_df[class_df.severity == 'M'].sample(48, replace = False)\n",
        "            class_df = pd.concat([class_df_A, class_df_B])\n",
        "            class_df = class_df.sample(len(class_df), replace = False)\n",
        "        final_df = pd.concat([class_df, final_df])\n",
        "        \n",
        "    return final_df.sample(len(final_df), replace = False)\n",
        "\n",
        "def display_probabilities(prediction):\n",
        "    for index, probability in enumerate(prediction):\n",
        "        print(f'{index}: {probability:.10%}')\n",
        "        \n",
        "def create_final_results_df() -> pd.DataFrame:\n",
        "    # create dataframe for results\n",
        "    data = {\"calcifications\": [0, 0, 0, 0]}\n",
        "    return pd.DataFrame.from_dict(data, orient='index', columns=['test_accuracy', 'precision','recall', 'f1-score'])"
      ],
      "metadata": {
        "id": "BP5kV4O9xD1Y"
      },
      "execution_count": 4,
      "outputs": []
    },
    {
      "cell_type": "code",
      "source": [
        "mammo_df = create_mias_dataset(\"/content/gdrive/My Drive/SDP/all-mias/MIAS_Cancer_info.txt\")\n",
        "mammo_df.head()"
      ],
      "metadata": {
        "colab": {
          "base_uri": "https://localhost:8080/",
          "height": 238
        },
        "id": "Gb_IiMnrxGh7",
        "outputId": "163f49b2-c917-4132-97dd-571d913c2379"
      },
      "execution_count": 5,
      "outputs": [
        {
          "output_type": "execute_result",
          "data": {
            "text/html": [
              "\n",
              "  <div id=\"df-8c4f452c-c8bb-4d64-a70d-19a69e956a3f\">\n",
              "    <div class=\"colab-df-container\">\n",
              "      <div>\n",
              "<style scoped>\n",
              "    .dataframe tbody tr th:only-of-type {\n",
              "        vertical-align: middle;\n",
              "    }\n",
              "\n",
              "    .dataframe tbody tr th {\n",
              "        vertical-align: top;\n",
              "    }\n",
              "\n",
              "    .dataframe thead th {\n",
              "        text-align: right;\n",
              "    }\n",
              "</style>\n",
              "<table border=\"1\" class=\"dataframe\">\n",
              "  <thead>\n",
              "    <tr style=\"text-align: right;\">\n",
              "      <th></th>\n",
              "      <th>bg</th>\n",
              "      <th>ab_class</th>\n",
              "      <th>severity</th>\n",
              "      <th>x</th>\n",
              "      <th>y</th>\n",
              "      <th>radius</th>\n",
              "    </tr>\n",
              "    <tr>\n",
              "      <th>refnum</th>\n",
              "      <th></th>\n",
              "      <th></th>\n",
              "      <th></th>\n",
              "      <th></th>\n",
              "      <th></th>\n",
              "      <th></th>\n",
              "    </tr>\n",
              "  </thead>\n",
              "  <tbody>\n",
              "    <tr>\n",
              "      <th>mdb001</th>\n",
              "      <td>G</td>\n",
              "      <td>CIRC</td>\n",
              "      <td>B</td>\n",
              "      <td>535.0</td>\n",
              "      <td>425.0</td>\n",
              "      <td>197.0</td>\n",
              "    </tr>\n",
              "    <tr>\n",
              "      <th>mdb002</th>\n",
              "      <td>G</td>\n",
              "      <td>CIRC</td>\n",
              "      <td>B</td>\n",
              "      <td>522.0</td>\n",
              "      <td>280.0</td>\n",
              "      <td>69.0</td>\n",
              "    </tr>\n",
              "    <tr>\n",
              "      <th>mdb003</th>\n",
              "      <td>D</td>\n",
              "      <td>NORM</td>\n",
              "      <td>A</td>\n",
              "      <td>NaN</td>\n",
              "      <td>NaN</td>\n",
              "      <td>NaN</td>\n",
              "    </tr>\n",
              "    <tr>\n",
              "      <th>mdb004</th>\n",
              "      <td>D</td>\n",
              "      <td>NORM</td>\n",
              "      <td>A</td>\n",
              "      <td>NaN</td>\n",
              "      <td>NaN</td>\n",
              "      <td>NaN</td>\n",
              "    </tr>\n",
              "    <tr>\n",
              "      <th>mdb005</th>\n",
              "      <td>F</td>\n",
              "      <td>CIRC</td>\n",
              "      <td>B</td>\n",
              "      <td>477.0</td>\n",
              "      <td>133.0</td>\n",
              "      <td>30.0</td>\n",
              "    </tr>\n",
              "  </tbody>\n",
              "</table>\n",
              "</div>\n",
              "      <button class=\"colab-df-convert\" onclick=\"convertToInteractive('df-8c4f452c-c8bb-4d64-a70d-19a69e956a3f')\"\n",
              "              title=\"Convert this dataframe to an interactive table.\"\n",
              "              style=\"display:none;\">\n",
              "        \n",
              "  <svg xmlns=\"http://www.w3.org/2000/svg\" height=\"24px\"viewBox=\"0 0 24 24\"\n",
              "       width=\"24px\">\n",
              "    <path d=\"M0 0h24v24H0V0z\" fill=\"none\"/>\n",
              "    <path d=\"M18.56 5.44l.94 2.06.94-2.06 2.06-.94-2.06-.94-.94-2.06-.94 2.06-2.06.94zm-11 1L8.5 8.5l.94-2.06 2.06-.94-2.06-.94L8.5 2.5l-.94 2.06-2.06.94zm10 10l.94 2.06.94-2.06 2.06-.94-2.06-.94-.94-2.06-.94 2.06-2.06.94z\"/><path d=\"M17.41 7.96l-1.37-1.37c-.4-.4-.92-.59-1.43-.59-.52 0-1.04.2-1.43.59L10.3 9.45l-7.72 7.72c-.78.78-.78 2.05 0 2.83L4 21.41c.39.39.9.59 1.41.59.51 0 1.02-.2 1.41-.59l7.78-7.78 2.81-2.81c.8-.78.8-2.07 0-2.86zM5.41 20L4 18.59l7.72-7.72 1.47 1.35L5.41 20z\"/>\n",
              "  </svg>\n",
              "      </button>\n",
              "      \n",
              "  <style>\n",
              "    .colab-df-container {\n",
              "      display:flex;\n",
              "      flex-wrap:wrap;\n",
              "      gap: 12px;\n",
              "    }\n",
              "\n",
              "    .colab-df-convert {\n",
              "      background-color: #E8F0FE;\n",
              "      border: none;\n",
              "      border-radius: 50%;\n",
              "      cursor: pointer;\n",
              "      display: none;\n",
              "      fill: #1967D2;\n",
              "      height: 32px;\n",
              "      padding: 0 0 0 0;\n",
              "      width: 32px;\n",
              "    }\n",
              "\n",
              "    .colab-df-convert:hover {\n",
              "      background-color: #E2EBFA;\n",
              "      box-shadow: 0px 1px 2px rgba(60, 64, 67, 0.3), 0px 1px 3px 1px rgba(60, 64, 67, 0.15);\n",
              "      fill: #174EA6;\n",
              "    }\n",
              "\n",
              "    [theme=dark] .colab-df-convert {\n",
              "      background-color: #3B4455;\n",
              "      fill: #D2E3FC;\n",
              "    }\n",
              "\n",
              "    [theme=dark] .colab-df-convert:hover {\n",
              "      background-color: #434B5C;\n",
              "      box-shadow: 0px 1px 3px 1px rgba(0, 0, 0, 0.15);\n",
              "      filter: drop-shadow(0px 1px 2px rgba(0, 0, 0, 0.3));\n",
              "      fill: #FFFFFF;\n",
              "    }\n",
              "  </style>\n",
              "\n",
              "      <script>\n",
              "        const buttonEl =\n",
              "          document.querySelector('#df-8c4f452c-c8bb-4d64-a70d-19a69e956a3f button.colab-df-convert');\n",
              "        buttonEl.style.display =\n",
              "          google.colab.kernel.accessAllowed ? 'block' : 'none';\n",
              "\n",
              "        async function convertToInteractive(key) {\n",
              "          const element = document.querySelector('#df-8c4f452c-c8bb-4d64-a70d-19a69e956a3f');\n",
              "          const dataTable =\n",
              "            await google.colab.kernel.invokeFunction('convertToInteractive',\n",
              "                                                     [key], {});\n",
              "          if (!dataTable) return;\n",
              "\n",
              "          const docLinkHtml = 'Like what you see? Visit the ' +\n",
              "            '<a target=\"_blank\" href=https://colab.research.google.com/notebooks/data_table.ipynb>data table notebook</a>'\n",
              "            + ' to learn more about interactive tables.';\n",
              "          element.innerHTML = '';\n",
              "          dataTable['output_type'] = 'display_data';\n",
              "          await google.colab.output.renderOutput(dataTable, element);\n",
              "          const docLink = document.createElement('div');\n",
              "          docLink.innerHTML = docLinkHtml;\n",
              "          element.appendChild(docLink);\n",
              "        }\n",
              "      </script>\n",
              "    </div>\n",
              "  </div>\n",
              "  "
            ],
            "text/plain": [
              "       bg ab_class severity      x      y  radius\n",
              "refnum                                           \n",
              "mdb001  G     CIRC        B  535.0  425.0   197.0\n",
              "mdb002  G     CIRC        B  522.0  280.0    69.0\n",
              "mdb003  D     NORM        A    NaN    NaN     NaN\n",
              "mdb004  D     NORM        A    NaN    NaN     NaN\n",
              "mdb005  F     CIRC        B  477.0  133.0    30.0"
            ]
          },
          "metadata": {},
          "execution_count": 5
        }
      ]
    },
    {
      "cell_type": "code",
      "source": [
        "len(mammo_df)"
      ],
      "metadata": {
        "colab": {
          "base_uri": "https://localhost:8080/"
        },
        "id": "K2mOmOhsxRKp",
        "outputId": "2ae833b3-69f6-43b4-9b40-fffa93601353"
      },
      "execution_count": 6,
      "outputs": [
        {
          "output_type": "execute_result",
          "data": {
            "text/plain": [
              "322"
            ]
          },
          "metadata": {},
          "execution_count": 6
        }
      ]
    },
    {
      "cell_type": "code",
      "source": [
        "mammo = generate_subsamples(\"/content/gdrive/MyDrive/SDP/all-mias\",mammo_df)\n",
        "mammo.head()"
      ],
      "metadata": {
        "colab": {
          "base_uri": "https://localhost:8080/",
          "height": 297
        },
        "id": "IZijho6zxGaS",
        "outputId": "750e1fe5-9337-47e5-acb8-99551ccf4c60"
      },
      "execution_count": 7,
      "outputs": [
        {
          "output_type": "execute_result",
          "data": {
            "text/html": [
              "\n",
              "  <div id=\"df-f6f2b616-cdd6-421b-b563-740575e3dd01\">\n",
              "    <div class=\"colab-df-container\">\n",
              "      <div>\n",
              "<style scoped>\n",
              "    .dataframe tbody tr th:only-of-type {\n",
              "        vertical-align: middle;\n",
              "    }\n",
              "\n",
              "    .dataframe tbody tr th {\n",
              "        vertical-align: top;\n",
              "    }\n",
              "\n",
              "    .dataframe thead th {\n",
              "        text-align: right;\n",
              "    }\n",
              "</style>\n",
              "<table border=\"1\" class=\"dataframe\">\n",
              "  <thead>\n",
              "    <tr style=\"text-align: right;\">\n",
              "      <th></th>\n",
              "      <th>ab_class</th>\n",
              "      <th>bg</th>\n",
              "      <th>p_matrix</th>\n",
              "      <th>severity</th>\n",
              "      <th>subsample_path</th>\n",
              "    </tr>\n",
              "  </thead>\n",
              "  <tbody>\n",
              "    <tr>\n",
              "      <th>mdb001_0_rotated</th>\n",
              "      <td>CIRC</td>\n",
              "      <td>G</td>\n",
              "      <td>[[0, 0, 0, 0, 1, 1, 3, 4, 4, 4, 5, 5, 5, 6, 5,...</td>\n",
              "      <td>B</td>\n",
              "      <td>../subsamples/mdb001_0_rotated.png</td>\n",
              "    </tr>\n",
              "    <tr>\n",
              "      <th>mdb001_0_mirr_lr</th>\n",
              "      <td>CIRC</td>\n",
              "      <td>G</td>\n",
              "      <td>[[125, 128, 113, 102, 98, 94, 91, 94, 97, 99, ...</td>\n",
              "      <td>B</td>\n",
              "      <td>../subsamples/mdb001_0_mirr_lr.png</td>\n",
              "    </tr>\n",
              "    <tr>\n",
              "      <th>mdb001_0_mirr_tp</th>\n",
              "      <td>CIRC</td>\n",
              "      <td>G</td>\n",
              "      <td>[[0, 0, 0, 1, 0, 0, 0, 1, 0, 1, 0, 1, 1, 1, 0,...</td>\n",
              "      <td>B</td>\n",
              "      <td>../subsamples/mdb001_0_mirr_tp.png</td>\n",
              "    </tr>\n",
              "    <tr>\n",
              "      <th>mdb001_90_rotated</th>\n",
              "      <td>CIRC</td>\n",
              "      <td>G</td>\n",
              "      <td>[[125, 125, 132, 121, 110, 99, 91, 87, 87, 88,...</td>\n",
              "      <td>B</td>\n",
              "      <td>../subsamples/mdb001_90_rotated.png</td>\n",
              "    </tr>\n",
              "    <tr>\n",
              "      <th>mdb001_90_mirr_lr</th>\n",
              "      <td>CIRC</td>\n",
              "      <td>G</td>\n",
              "      <td>[[59, 59, 61, 64, 65, 64, 67, 70, 73, 75, 77, ...</td>\n",
              "      <td>B</td>\n",
              "      <td>../subsamples/mdb001_90_mirr_lr.png</td>\n",
              "    </tr>\n",
              "  </tbody>\n",
              "</table>\n",
              "</div>\n",
              "      <button class=\"colab-df-convert\" onclick=\"convertToInteractive('df-f6f2b616-cdd6-421b-b563-740575e3dd01')\"\n",
              "              title=\"Convert this dataframe to an interactive table.\"\n",
              "              style=\"display:none;\">\n",
              "        \n",
              "  <svg xmlns=\"http://www.w3.org/2000/svg\" height=\"24px\"viewBox=\"0 0 24 24\"\n",
              "       width=\"24px\">\n",
              "    <path d=\"M0 0h24v24H0V0z\" fill=\"none\"/>\n",
              "    <path d=\"M18.56 5.44l.94 2.06.94-2.06 2.06-.94-2.06-.94-.94-2.06-.94 2.06-2.06.94zm-11 1L8.5 8.5l.94-2.06 2.06-.94-2.06-.94L8.5 2.5l-.94 2.06-2.06.94zm10 10l.94 2.06.94-2.06 2.06-.94-2.06-.94-.94-2.06-.94 2.06-2.06.94z\"/><path d=\"M17.41 7.96l-1.37-1.37c-.4-.4-.92-.59-1.43-.59-.52 0-1.04.2-1.43.59L10.3 9.45l-7.72 7.72c-.78.78-.78 2.05 0 2.83L4 21.41c.39.39.9.59 1.41.59.51 0 1.02-.2 1.41-.59l7.78-7.78 2.81-2.81c.8-.78.8-2.07 0-2.86zM5.41 20L4 18.59l7.72-7.72 1.47 1.35L5.41 20z\"/>\n",
              "  </svg>\n",
              "      </button>\n",
              "      \n",
              "  <style>\n",
              "    .colab-df-container {\n",
              "      display:flex;\n",
              "      flex-wrap:wrap;\n",
              "      gap: 12px;\n",
              "    }\n",
              "\n",
              "    .colab-df-convert {\n",
              "      background-color: #E8F0FE;\n",
              "      border: none;\n",
              "      border-radius: 50%;\n",
              "      cursor: pointer;\n",
              "      display: none;\n",
              "      fill: #1967D2;\n",
              "      height: 32px;\n",
              "      padding: 0 0 0 0;\n",
              "      width: 32px;\n",
              "    }\n",
              "\n",
              "    .colab-df-convert:hover {\n",
              "      background-color: #E2EBFA;\n",
              "      box-shadow: 0px 1px 2px rgba(60, 64, 67, 0.3), 0px 1px 3px 1px rgba(60, 64, 67, 0.15);\n",
              "      fill: #174EA6;\n",
              "    }\n",
              "\n",
              "    [theme=dark] .colab-df-convert {\n",
              "      background-color: #3B4455;\n",
              "      fill: #D2E3FC;\n",
              "    }\n",
              "\n",
              "    [theme=dark] .colab-df-convert:hover {\n",
              "      background-color: #434B5C;\n",
              "      box-shadow: 0px 1px 3px 1px rgba(0, 0, 0, 0.15);\n",
              "      filter: drop-shadow(0px 1px 2px rgba(0, 0, 0, 0.3));\n",
              "      fill: #FFFFFF;\n",
              "    }\n",
              "  </style>\n",
              "\n",
              "      <script>\n",
              "        const buttonEl =\n",
              "          document.querySelector('#df-f6f2b616-cdd6-421b-b563-740575e3dd01 button.colab-df-convert');\n",
              "        buttonEl.style.display =\n",
              "          google.colab.kernel.accessAllowed ? 'block' : 'none';\n",
              "\n",
              "        async function convertToInteractive(key) {\n",
              "          const element = document.querySelector('#df-f6f2b616-cdd6-421b-b563-740575e3dd01');\n",
              "          const dataTable =\n",
              "            await google.colab.kernel.invokeFunction('convertToInteractive',\n",
              "                                                     [key], {});\n",
              "          if (!dataTable) return;\n",
              "\n",
              "          const docLinkHtml = 'Like what you see? Visit the ' +\n",
              "            '<a target=\"_blank\" href=https://colab.research.google.com/notebooks/data_table.ipynb>data table notebook</a>'\n",
              "            + ' to learn more about interactive tables.';\n",
              "          element.innerHTML = '';\n",
              "          dataTable['output_type'] = 'display_data';\n",
              "          await google.colab.output.renderOutput(dataTable, element);\n",
              "          const docLink = document.createElement('div');\n",
              "          docLink.innerHTML = docLinkHtml;\n",
              "          element.appendChild(docLink);\n",
              "        }\n",
              "      </script>\n",
              "    </div>\n",
              "  </div>\n",
              "  "
            ],
            "text/plain": [
              "                  ab_class bg  ... severity                       subsample_path\n",
              "mdb001_0_rotated      CIRC  G  ...        B   ../subsamples/mdb001_0_rotated.png\n",
              "mdb001_0_mirr_lr      CIRC  G  ...        B   ../subsamples/mdb001_0_mirr_lr.png\n",
              "mdb001_0_mirr_tp      CIRC  G  ...        B   ../subsamples/mdb001_0_mirr_tp.png\n",
              "mdb001_90_rotated     CIRC  G  ...        B  ../subsamples/mdb001_90_rotated.png\n",
              "mdb001_90_mirr_lr     CIRC  G  ...        B  ../subsamples/mdb001_90_mirr_lr.png\n",
              "\n",
              "[5 rows x 5 columns]"
            ]
          },
          "metadata": {},
          "execution_count": 7
        }
      ]
    },
    {
      "cell_type": "code",
      "source": [
        "import numpy as np\n",
        "import glob\n",
        "import natsort\n",
        "import pandas as pd\n",
        "import os\n",
        "import cv2\n",
        "from skimage import img_as_float\n",
        "from cv2 import GaussianBlur\n",
        "import io\n",
        "from sklearn.naive_bayes import GaussianNB\n",
        "from cv2 import imread\n",
        "import matplotlib.pyplot as plt\n",
        "from keras.models import Sequential\n",
        "from keras.layers import Dense, Dropout, Activation, Conv2D, MaxPool2D, Flatten\n",
        "from keras import optimizers\n",
        "from keras import losses\n",
        "from sklearn import metrics\n",
        "from sklearn.model_selection import train_test_split\n",
        "from tensorflow.keras.layers import AveragePooling2D\n",
        "from tensorflow.keras.callbacks import EarlyStopping, ModelCheckpoint\n",
        "import random # for visualization\n",
        "from tensorflow.keras.layers import Conv2D,InputLayer, Dropout, BatchNormalization, Flatten, Dense, MaxPooling2D\n",
        "from tensorflow.keras.layers import Input,Activation,Add\n",
        "from tensorflow.keras.models import Model \n",
        "from tensorflow.keras.optimizers import Adam\n",
        "from google.colab.patches import cv2_imshow\n",
        "from keras.preprocessing import image\n",
        "from tensorflow.keras.callbacks import EarlyStopping, ModelCheckpoint\n",
        "import random # for visualization\n",
        "print('Libraries Imported')"
      ],
      "metadata": {
        "colab": {
          "base_uri": "https://localhost:8080/"
        },
        "id": "bACaZj1AxxXS",
        "outputId": "99436385-0d10-4c30-f80c-cb9fc0919152"
      },
      "execution_count": 8,
      "outputs": [
        {
          "output_type": "stream",
          "name": "stdout",
          "text": [
            "Libraries Imported\n"
          ]
        }
      ]
    },
    {
      "cell_type": "code",
      "source": [
        "calc_raw = mammo[mammo.ab_class == \"CALC\"]\n",
        "calc_raw.severity.value_counts()"
      ],
      "metadata": {
        "colab": {
          "base_uri": "https://localhost:8080/"
        },
        "id": "tYYOHvl1xGVY",
        "outputId": "10e15b37-d5e4-4852-8ea8-5239df755806"
      },
      "execution_count": 9,
      "outputs": [
        {
          "output_type": "execute_result",
          "data": {
            "text/plain": [
              "M    156\n",
              "B    144\n",
              "Name: severity, dtype: int64"
            ]
          },
          "metadata": {},
          "execution_count": 9
        }
      ]
    },
    {
      "cell_type": "code",
      "source": [
        "calc_bal = balance_by_severity(mammo,\"CALC\")\n",
        "calc_bal.severity.value_counts()"
      ],
      "metadata": {
        "colab": {
          "base_uri": "https://localhost:8080/"
        },
        "id": "xldWq9z7x3K4",
        "outputId": "66bf103b-f2e2-4e72-ba0e-cf906bf09fc0"
      },
      "execution_count": 10,
      "outputs": [
        {
          "output_type": "execute_result",
          "data": {
            "text/plain": [
              "M    144\n",
              "B    144\n",
              "Name: severity, dtype: int64"
            ]
          },
          "metadata": {},
          "execution_count": 10
        }
      ]
    },
    {
      "cell_type": "code",
      "source": [
        "y = calc_bal.sample(28,random_state=42)\n",
        "X = calc_bal.drop(y.index)"
      ],
      "metadata": {
        "id": "rf_5xlw8x5UF"
      },
      "execution_count": 11,
      "outputs": []
    },
    {
      "cell_type": "code",
      "source": [
        "data_gen = ImageDataGenerator(validation_split=0.20, height_shift_range=0.10,width_shift_range=0.10,rotation_range=30,rescale=1/255.)"
      ],
      "metadata": {
        "id": "O68UKHoVx8Up"
      },
      "execution_count": 12,
      "outputs": []
    },
    {
      "cell_type": "code",
      "source": [
        "X_train = data_gen.flow_from_dataframe(X,x_col=\"subsample_path\",y_col=\"severity\",class_mode=\"categorical\",target_size=(256,256),subset=\"training\",color_mode=\"rgb\",shuffle=True)\n",
        "X_val = data_gen.flow_from_dataframe(X,x_col=\"subsample_path\",y_col=\"severity\",class_mode=\"categorical\",target_size=(256,256),subset=\"validation\",color_mode=\"rgb\",shuffle=False)\n",
        "y_val = data_gen.flow_from_dataframe(y,x_col=\"subsample_path\",y_col=\"severity\",class_mode=\"categorical\",target_size=(256,256),subset=\"training\",color_mode=\"rgb\",shuffle=False)\n",
        "y_test = data_gen.flow_from_dataframe(y,x_col=\"subsample_path\",y_col=\"severity\",class_mode=\"categorical\",target_size=(256,256),subset=\"validation\",color_mode=\"rgb\",shuffle=False)"
      ],
      "metadata": {
        "colab": {
          "base_uri": "https://localhost:8080/"
        },
        "id": "T2CozgjUyAEK",
        "outputId": "1d7c92a0-153e-4033-b960-68e688be97cf"
      },
      "execution_count": 13,
      "outputs": [
        {
          "output_type": "stream",
          "name": "stdout",
          "text": [
            "Found 208 validated image filenames belonging to 2 classes.\n",
            "Found 52 validated image filenames belonging to 2 classes.\n",
            "Found 23 validated image filenames belonging to 2 classes.\n",
            "Found 5 validated image filenames belonging to 2 classes.\n"
          ]
        }
      ]
    },
    {
      "cell_type": "code",
      "source": [
        "from tensorflow import keras\n",
        "from tensorflow.keras.applications.mobilenet_v2 import MobileNetV2\n",
        "modelMNV2 = MobileNetV2()"
      ],
      "metadata": {
        "colab": {
          "base_uri": "https://localhost:8080/"
        },
        "id": "1JnDl53TyXfL",
        "outputId": "8b4dfd11-2b5d-4006-f966-5ffbe8613d43"
      },
      "execution_count": 14,
      "outputs": [
        {
          "output_type": "stream",
          "name": "stdout",
          "text": [
            "Downloading data from https://storage.googleapis.com/tensorflow/keras-applications/mobilenet_v2/mobilenet_v2_weights_tf_dim_ordering_tf_kernels_1.0_224.h5\n",
            "14540800/14536120 [==============================] - 0s 0us/step\n",
            "14548992/14536120 [==============================] - 0s 0us/step\n"
          ]
        }
      ]
    },
    {
      "cell_type": "code",
      "source": [
        "from tensorflow.keras.models import Model\n",
        "from tensorflow.keras.layers import Dense\n",
        "from tensorflow.keras.layers import Flatten"
      ],
      "metadata": {
        "id": "lDqplIA_0Fm8"
      },
      "execution_count": 15,
      "outputs": []
    },
    {
      "cell_type": "code",
      "source": [
        "modelMNV2 = MobileNetV2(weights = \"imagenet\", include_top=False,input_shape=(256,256,3))\n",
        "modelMNV2.trainable = False\n",
        "flatMNV2 = Flatten()(modelMNV2.layers[-1].output)\n",
        "classMNV2 = Dense(512,activation=\"relu\")(flatMNV2)\n",
        "#class2 = Dense(50,activation=\"relu\")(class1)\n",
        "#class3 = Dense(1024,activation=\"relu\")(class2)\n",
        "outputMNV2 = Dense(2,activation=\"sigmoid\")(classMNV2)\n",
        "modelMNV2 = Model(inputs=modelMNV2.inputs, outputs=outputMNV2)"
      ],
      "metadata": {
        "colab": {
          "base_uri": "https://localhost:8080/"
        },
        "id": "V7mw01Xn0KVw",
        "outputId": "f651076d-51a2-4c69-cedb-5dabce56e396"
      },
      "execution_count": 48,
      "outputs": [
        {
          "output_type": "stream",
          "name": "stdout",
          "text": [
            "WARNING:tensorflow:`input_shape` is undefined or non-square, or `rows` is not in [96, 128, 160, 192, 224]. Weights for input shape (224, 224) will be loaded as the default.\n"
          ]
        }
      ]
    },
    {
      "cell_type": "code",
      "source": [
        "model_check_point_MNV2 = ModelCheckpoint(filepath= './mnv2', \n",
        "                                    monitor='val_loss', verbose=0, \n",
        "                                    save_best_only=True,\n",
        "                                    save_weights_only=False, \n",
        "                                    mode='auto', save_freq='epoch')"
      ],
      "metadata": {
        "id": "8Gx-5Ar70PyQ"
      },
      "execution_count": 49,
      "outputs": []
    },
    {
      "cell_type": "code",
      "source": [
        "adam_opt = Adam()\n",
        "model_loss = \"binary_crossentropy\"\n",
        "early_stopping = EarlyStopping(patience=200, restore_best_weights=True)\n",
        "modelMNV2.compile(optimizer=adam_opt,loss=model_loss,metrics=[\"accuracy\"])"
      ],
      "metadata": {
        "id": "TjotAGLf0SXA"
      },
      "execution_count": 50,
      "outputs": []
    },
    {
      "cell_type": "code",
      "source": [
        "import time"
      ],
      "metadata": {
        "id": "XQpCTVNF0xHZ"
      },
      "execution_count": 51,
      "outputs": []
    },
    {
      "cell_type": "code",
      "source": [
        "start_time = time.time()\n",
        "history_MNV2 = modelMNV2.fit(X_train,validation_data=X_val,epochs=200,callbacks=[early_stopping,model_check_point_MNV2],verbose=2)\n",
        "end_time = time.time()\n",
        "print(\"Training time for MNV2: \", end_time - start_time,\"secs\")\n",
        "mnv2_train_time = (end_time - start_time) / 60"
      ],
      "metadata": {
        "colab": {
          "base_uri": "https://localhost:8080/"
        },
        "id": "mu2VyZsB0Y0g",
        "outputId": "84e3a93e-fa4f-47b1-d5ff-bc11bf07b7b9"
      },
      "execution_count": 52,
      "outputs": [
        {
          "output_type": "stream",
          "name": "stdout",
          "text": [
            "Epoch 1/200\n",
            "INFO:tensorflow:Assets written to: ./mnv2/assets\n"
          ]
        },
        {
          "output_type": "stream",
          "name": "stderr",
          "text": [
            "/usr/local/lib/python3.7/dist-packages/keras/engine/functional.py:1410: CustomMaskWarning: Custom mask layers require a config and must override get_config. When loading, the custom mask layer must be passed to the custom_objects argument.\n",
            "  layer_config = serialize_layer_fn(layer)\n",
            "/usr/local/lib/python3.7/dist-packages/keras/saving/saved_model/layer_serialization.py:112: CustomMaskWarning: Custom mask layers require a config and must override get_config. When loading, the custom mask layer must be passed to the custom_objects argument.\n",
            "  return generic_utils.serialize_keras_object(obj)\n"
          ]
        },
        {
          "output_type": "stream",
          "name": "stdout",
          "text": [
            "7/7 - 42s - loss: 20.0953 - accuracy: 0.6827 - val_loss: 3.6172e-08 - val_accuracy: 1.0000 - 42s/epoch - 6s/step\n",
            "Epoch 2/200\n",
            "7/7 - 12s - loss: 3.8496 - accuracy: 0.8558 - val_loss: 2.0242 - val_accuracy: 0.8269 - 12s/epoch - 2s/step\n",
            "Epoch 3/200\n",
            "7/7 - 12s - loss: 0.8649 - accuracy: 0.9038 - val_loss: 0.4501 - val_accuracy: 0.9615 - 12s/epoch - 2s/step\n",
            "Epoch 4/200\n",
            "7/7 - 12s - loss: 0.5245 - accuracy: 0.9327 - val_loss: 3.3564 - val_accuracy: 0.8269 - 12s/epoch - 2s/step\n",
            "Epoch 5/200\n",
            "7/7 - 12s - loss: 0.7292 - accuracy: 0.9183 - val_loss: 0.1457 - val_accuracy: 0.9808 - 12s/epoch - 2s/step\n",
            "Epoch 6/200\n",
            "7/7 - 12s - loss: 0.8833 - accuracy: 0.9375 - val_loss: 3.6511 - val_accuracy: 0.8077 - 12s/epoch - 2s/step\n",
            "Epoch 7/200\n",
            "7/7 - 12s - loss: 0.3145 - accuracy: 0.9663 - val_loss: 0.1256 - val_accuracy: 0.9808 - 12s/epoch - 2s/step\n",
            "Epoch 8/200\n",
            "7/7 - 12s - loss: 0.2156 - accuracy: 0.9856 - val_loss: 1.9936 - val_accuracy: 0.8269 - 12s/epoch - 2s/step\n",
            "Epoch 9/200\n",
            "7/7 - 12s - loss: 0.1129 - accuracy: 0.9952 - val_loss: 1.8925 - val_accuracy: 0.8269 - 12s/epoch - 2s/step\n",
            "Epoch 10/200\n",
            "7/7 - 12s - loss: 0.1794 - accuracy: 0.9904 - val_loss: 0.7263 - val_accuracy: 0.9038 - 12s/epoch - 2s/step\n",
            "Epoch 11/200\n",
            "7/7 - 12s - loss: 0.0936 - accuracy: 0.9952 - val_loss: 2.7126 - val_accuracy: 0.8462 - 12s/epoch - 2s/step\n",
            "Epoch 12/200\n",
            "7/7 - 13s - loss: 0.0744 - accuracy: 0.9952 - val_loss: 1.5203 - val_accuracy: 0.8462 - 13s/epoch - 2s/step\n",
            "Epoch 13/200\n",
            "7/7 - 12s - loss: 0.0206 - accuracy: 0.9952 - val_loss: 0.7867 - val_accuracy: 0.8462 - 12s/epoch - 2s/step\n",
            "Epoch 14/200\n",
            "7/7 - 12s - loss: 0.0440 - accuracy: 0.9952 - val_loss: 1.0252 - val_accuracy: 0.8462 - 12s/epoch - 2s/step\n",
            "Epoch 15/200\n",
            "7/7 - 12s - loss: 0.0190 - accuracy: 1.0000 - val_loss: 1.3810 - val_accuracy: 0.8462 - 12s/epoch - 2s/step\n",
            "Epoch 16/200\n",
            "7/7 - 12s - loss: 0.0554 - accuracy: 0.9952 - val_loss: 0.5373 - val_accuracy: 0.8654 - 12s/epoch - 2s/step\n",
            "Epoch 17/200\n",
            "7/7 - 13s - loss: 0.0201 - accuracy: 0.9952 - val_loss: 1.3317 - val_accuracy: 0.8462 - 13s/epoch - 2s/step\n",
            "Epoch 18/200\n",
            "7/7 - 13s - loss: 0.0064 - accuracy: 0.9952 - val_loss: 1.8522 - val_accuracy: 0.8462 - 13s/epoch - 2s/step\n",
            "Epoch 19/200\n",
            "7/7 - 13s - loss: 0.0063 - accuracy: 1.0000 - val_loss: 1.2883 - val_accuracy: 0.8462 - 13s/epoch - 2s/step\n",
            "Epoch 20/200\n",
            "7/7 - 13s - loss: 0.0240 - accuracy: 0.9952 - val_loss: 0.0556 - val_accuracy: 1.0000 - 13s/epoch - 2s/step\n",
            "Epoch 21/200\n",
            "7/7 - 13s - loss: 0.0329 - accuracy: 0.9904 - val_loss: 1.5710 - val_accuracy: 0.8462 - 13s/epoch - 2s/step\n",
            "Epoch 22/200\n",
            "7/7 - 13s - loss: 0.0036 - accuracy: 1.0000 - val_loss: 2.1667 - val_accuracy: 0.8269 - 13s/epoch - 2s/step\n",
            "Epoch 23/200\n",
            "7/7 - 13s - loss: 0.0599 - accuracy: 0.9952 - val_loss: 0.2010 - val_accuracy: 0.9615 - 13s/epoch - 2s/step\n",
            "Epoch 24/200\n",
            "7/7 - 13s - loss: 2.1774e-04 - accuracy: 1.0000 - val_loss: 1.0742 - val_accuracy: 0.8846 - 13s/epoch - 2s/step\n",
            "Epoch 25/200\n",
            "7/7 - 13s - loss: 0.0061 - accuracy: 1.0000 - val_loss: 0.7229 - val_accuracy: 0.8654 - 13s/epoch - 2s/step\n",
            "Epoch 26/200\n",
            "7/7 - 13s - loss: 0.0063 - accuracy: 1.0000 - val_loss: 1.0775 - val_accuracy: 0.8846 - 13s/epoch - 2s/step\n",
            "Epoch 27/200\n",
            "7/7 - 13s - loss: 0.0012 - accuracy: 1.0000 - val_loss: 0.8388 - val_accuracy: 0.8462 - 13s/epoch - 2s/step\n",
            "Epoch 28/200\n",
            "7/7 - 13s - loss: 4.3801e-05 - accuracy: 1.0000 - val_loss: 0.7974 - val_accuracy: 0.8654 - 13s/epoch - 2s/step\n",
            "Epoch 29/200\n",
            "7/7 - 13s - loss: 0.0058 - accuracy: 1.0000 - val_loss: 1.0630 - val_accuracy: 0.8654 - 13s/epoch - 2s/step\n",
            "Epoch 30/200\n",
            "7/7 - 12s - loss: 6.5371e-06 - accuracy: 1.0000 - val_loss: 2.1535 - val_accuracy: 0.8462 - 12s/epoch - 2s/step\n",
            "Epoch 31/200\n",
            "7/7 - 12s - loss: 6.8566e-04 - accuracy: 1.0000 - val_loss: 2.4831 - val_accuracy: 0.8269 - 12s/epoch - 2s/step\n",
            "Epoch 32/200\n",
            "7/7 - 12s - loss: 0.0031 - accuracy: 1.0000 - val_loss: 2.4605 - val_accuracy: 0.8269 - 12s/epoch - 2s/step\n",
            "Epoch 33/200\n",
            "7/7 - 12s - loss: 0.0031 - accuracy: 1.0000 - val_loss: 0.8390 - val_accuracy: 0.9231 - 12s/epoch - 2s/step\n",
            "Epoch 34/200\n",
            "7/7 - 12s - loss: 0.0120 - accuracy: 1.0000 - val_loss: 2.0106 - val_accuracy: 0.8269 - 12s/epoch - 2s/step\n",
            "Epoch 35/200\n",
            "7/7 - 12s - loss: 0.0091 - accuracy: 1.0000 - val_loss: 1.7145 - val_accuracy: 0.8846 - 12s/epoch - 2s/step\n",
            "Epoch 36/200\n",
            "7/7 - 12s - loss: 0.0108 - accuracy: 1.0000 - val_loss: 1.1662 - val_accuracy: 0.8846 - 12s/epoch - 2s/step\n",
            "Epoch 37/200\n",
            "7/7 - 12s - loss: 0.0091 - accuracy: 1.0000 - val_loss: 2.5923 - val_accuracy: 0.8462 - 12s/epoch - 2s/step\n",
            "Epoch 38/200\n",
            "7/7 - 12s - loss: 0.0214 - accuracy: 1.0000 - val_loss: 1.6273 - val_accuracy: 0.8462 - 12s/epoch - 2s/step\n",
            "Epoch 39/200\n",
            "7/7 - 12s - loss: 0.0183 - accuracy: 1.0000 - val_loss: 1.5662 - val_accuracy: 0.8654 - 12s/epoch - 2s/step\n",
            "Epoch 40/200\n",
            "7/7 - 13s - loss: 0.0595 - accuracy: 1.0000 - val_loss: 3.5334 - val_accuracy: 0.8269 - 13s/epoch - 2s/step\n",
            "Epoch 41/200\n",
            "7/7 - 13s - loss: 0.0303 - accuracy: 1.0000 - val_loss: 1.5450 - val_accuracy: 0.8654 - 13s/epoch - 2s/step\n",
            "Epoch 42/200\n",
            "7/7 - 13s - loss: 4.9791e-05 - accuracy: 1.0000 - val_loss: 3.1866 - val_accuracy: 0.8269 - 13s/epoch - 2s/step\n",
            "Epoch 43/200\n",
            "7/7 - 13s - loss: 0.0210 - accuracy: 0.9952 - val_loss: 1.7140 - val_accuracy: 0.8462 - 13s/epoch - 2s/step\n",
            "Epoch 44/200\n",
            "7/7 - 13s - loss: 4.7426e-05 - accuracy: 1.0000 - val_loss: 0.6779 - val_accuracy: 0.8846 - 13s/epoch - 2s/step\n",
            "Epoch 45/200\n",
            "7/7 - 12s - loss: 0.0159 - accuracy: 1.0000 - val_loss: 1.3242 - val_accuracy: 0.8654 - 12s/epoch - 2s/step\n",
            "Epoch 46/200\n",
            "7/7 - 12s - loss: 0.0110 - accuracy: 1.0000 - val_loss: 4.3466 - val_accuracy: 0.8077 - 12s/epoch - 2s/step\n",
            "Epoch 47/200\n",
            "7/7 - 13s - loss: 0.0209 - accuracy: 1.0000 - val_loss: 1.8837 - val_accuracy: 0.8462 - 13s/epoch - 2s/step\n",
            "Epoch 48/200\n",
            "7/7 - 12s - loss: 0.0500 - accuracy: 1.0000 - val_loss: 0.8619 - val_accuracy: 0.8654 - 12s/epoch - 2s/step\n",
            "Epoch 49/200\n",
            "7/7 - 12s - loss: 0.0067 - accuracy: 1.0000 - val_loss: 1.9400 - val_accuracy: 0.8462 - 12s/epoch - 2s/step\n",
            "Epoch 50/200\n",
            "7/7 - 12s - loss: 0.0213 - accuracy: 1.0000 - val_loss: 0.9117 - val_accuracy: 0.8846 - 12s/epoch - 2s/step\n",
            "Epoch 51/200\n",
            "7/7 - 12s - loss: 3.6259e-04 - accuracy: 1.0000 - val_loss: 1.7638 - val_accuracy: 0.8654 - 12s/epoch - 2s/step\n",
            "Epoch 52/200\n",
            "7/7 - 12s - loss: 0.0157 - accuracy: 1.0000 - val_loss: 0.6127 - val_accuracy: 0.8846 - 12s/epoch - 2s/step\n",
            "Epoch 53/200\n",
            "7/7 - 12s - loss: 0.0046 - accuracy: 1.0000 - val_loss: 0.7409 - val_accuracy: 0.8846 - 12s/epoch - 2s/step\n",
            "Epoch 54/200\n",
            "7/7 - 12s - loss: 7.0258e-05 - accuracy: 1.0000 - val_loss: 1.1179 - val_accuracy: 0.8462 - 12s/epoch - 2s/step\n",
            "Epoch 55/200\n",
            "7/7 - 12s - loss: 0.0019 - accuracy: 1.0000 - val_loss: 2.4079 - val_accuracy: 0.8462 - 12s/epoch - 2s/step\n",
            "Epoch 56/200\n",
            "7/7 - 12s - loss: 7.0381e-06 - accuracy: 1.0000 - val_loss: 3.3614 - val_accuracy: 0.8269 - 12s/epoch - 2s/step\n",
            "Epoch 57/200\n",
            "7/7 - 12s - loss: 0.0027 - accuracy: 1.0000 - val_loss: 3.1115 - val_accuracy: 0.8462 - 12s/epoch - 2s/step\n",
            "Epoch 58/200\n",
            "7/7 - 12s - loss: 6.3613e-07 - accuracy: 1.0000 - val_loss: 1.8596 - val_accuracy: 0.8462 - 12s/epoch - 2s/step\n",
            "Epoch 59/200\n",
            "7/7 - 12s - loss: 4.7190e-05 - accuracy: 1.0000 - val_loss: 1.8525 - val_accuracy: 0.8462 - 12s/epoch - 2s/step\n",
            "Epoch 60/200\n",
            "7/7 - 12s - loss: 4.0024e-05 - accuracy: 1.0000 - val_loss: 1.5551 - val_accuracy: 0.8462 - 12s/epoch - 2s/step\n",
            "Epoch 61/200\n",
            "7/7 - 12s - loss: 4.4143e-07 - accuracy: 1.0000 - val_loss: 1.4219 - val_accuracy: 0.8654 - 12s/epoch - 2s/step\n",
            "Epoch 62/200\n",
            "7/7 - 12s - loss: 2.2122e-06 - accuracy: 1.0000 - val_loss: 1.2822 - val_accuracy: 0.8462 - 12s/epoch - 2s/step\n",
            "Epoch 63/200\n",
            "7/7 - 12s - loss: 0.0058 - accuracy: 1.0000 - val_loss: 2.8050 - val_accuracy: 0.8462 - 12s/epoch - 2s/step\n",
            "Epoch 64/200\n",
            "7/7 - 12s - loss: 5.1845e-05 - accuracy: 1.0000 - val_loss: 3.6499 - val_accuracy: 0.8269 - 12s/epoch - 2s/step\n",
            "Epoch 65/200\n",
            "7/7 - 12s - loss: 0.0275 - accuracy: 0.9952 - val_loss: 1.6292 - val_accuracy: 0.8462 - 12s/epoch - 2s/step\n",
            "Epoch 66/200\n",
            "7/7 - 12s - loss: 0.0093 - accuracy: 1.0000 - val_loss: 0.6289 - val_accuracy: 0.8846 - 12s/epoch - 2s/step\n",
            "Epoch 67/200\n",
            "7/7 - 12s - loss: 4.1044e-05 - accuracy: 1.0000 - val_loss: 2.0679 - val_accuracy: 0.8462 - 12s/epoch - 2s/step\n",
            "Epoch 68/200\n",
            "7/7 - 12s - loss: 1.4215e-06 - accuracy: 1.0000 - val_loss: 2.9267 - val_accuracy: 0.8462 - 12s/epoch - 2s/step\n",
            "Epoch 69/200\n",
            "7/7 - 12s - loss: 0.0043 - accuracy: 1.0000 - val_loss: 2.3577 - val_accuracy: 0.8462 - 12s/epoch - 2s/step\n",
            "Epoch 70/200\n",
            "7/7 - 12s - loss: 2.9112e-06 - accuracy: 1.0000 - val_loss: 1.0231 - val_accuracy: 0.8462 - 12s/epoch - 2s/step\n",
            "Epoch 71/200\n",
            "7/7 - 12s - loss: 3.8987e-05 - accuracy: 1.0000 - val_loss: 1.2048 - val_accuracy: 0.8462 - 12s/epoch - 2s/step\n",
            "Epoch 72/200\n",
            "7/7 - 12s - loss: 5.7611e-04 - accuracy: 1.0000 - val_loss: 0.9326 - val_accuracy: 0.8654 - 12s/epoch - 2s/step\n",
            "Epoch 73/200\n",
            "7/7 - 12s - loss: 1.3426e-05 - accuracy: 1.0000 - val_loss: 0.9334 - val_accuracy: 0.8654 - 12s/epoch - 2s/step\n",
            "Epoch 74/200\n",
            "7/7 - 12s - loss: 2.9767e-06 - accuracy: 1.0000 - val_loss: 0.8115 - val_accuracy: 0.8654 - 12s/epoch - 2s/step\n",
            "Epoch 75/200\n",
            "7/7 - 12s - loss: 9.9500e-07 - accuracy: 1.0000 - val_loss: 1.0189 - val_accuracy: 0.8462 - 12s/epoch - 2s/step\n",
            "Epoch 76/200\n",
            "7/7 - 13s - loss: 1.2613e-06 - accuracy: 1.0000 - val_loss: 1.3006 - val_accuracy: 0.8462 - 13s/epoch - 2s/step\n",
            "Epoch 77/200\n",
            "7/7 - 13s - loss: 4.4470e-06 - accuracy: 1.0000 - val_loss: 1.1782 - val_accuracy: 0.8846 - 13s/epoch - 2s/step\n",
            "Epoch 78/200\n",
            "7/7 - 12s - loss: 1.7348e-06 - accuracy: 1.0000 - val_loss: 0.5073 - val_accuracy: 0.8654 - 12s/epoch - 2s/step\n",
            "Epoch 79/200\n",
            "7/7 - 12s - loss: 1.4256e-06 - accuracy: 1.0000 - val_loss: 0.8442 - val_accuracy: 0.8846 - 12s/epoch - 2s/step\n",
            "Epoch 80/200\n",
            "7/7 - 12s - loss: 3.5143e-05 - accuracy: 1.0000 - val_loss: 1.0119 - val_accuracy: 0.8846 - 12s/epoch - 2s/step\n",
            "Epoch 81/200\n",
            "7/7 - 13s - loss: 2.9058e-06 - accuracy: 1.0000 - val_loss: 1.3609 - val_accuracy: 0.8462 - 13s/epoch - 2s/step\n",
            "Epoch 82/200\n",
            "7/7 - 12s - loss: 0.0011 - accuracy: 1.0000 - val_loss: 1.0920 - val_accuracy: 0.8846 - 12s/epoch - 2s/step\n",
            "Epoch 83/200\n",
            "7/7 - 12s - loss: 7.7846e-05 - accuracy: 1.0000 - val_loss: 0.9979 - val_accuracy: 0.8462 - 12s/epoch - 2s/step\n",
            "Epoch 84/200\n",
            "7/7 - 12s - loss: 5.3465e-08 - accuracy: 1.0000 - val_loss: 1.2228 - val_accuracy: 0.8462 - 12s/epoch - 2s/step\n",
            "Epoch 85/200\n",
            "7/7 - 12s - loss: 8.9609e-07 - accuracy: 1.0000 - val_loss: 1.4079 - val_accuracy: 0.8462 - 12s/epoch - 2s/step\n",
            "Epoch 86/200\n",
            "7/7 - 12s - loss: 3.0884e-06 - accuracy: 1.0000 - val_loss: 1.1502 - val_accuracy: 0.8654 - 12s/epoch - 2s/step\n",
            "Epoch 87/200\n",
            "7/7 - 12s - loss: 1.3984e-06 - accuracy: 1.0000 - val_loss: 1.2529 - val_accuracy: 0.8462 - 12s/epoch - 2s/step\n",
            "Epoch 88/200\n",
            "7/7 - 12s - loss: 3.0392e-06 - accuracy: 1.0000 - val_loss: 0.7163 - val_accuracy: 0.8846 - 12s/epoch - 2s/step\n",
            "Epoch 89/200\n",
            "7/7 - 12s - loss: 3.4780e-07 - accuracy: 1.0000 - val_loss: 1.0220 - val_accuracy: 0.8654 - 12s/epoch - 2s/step\n",
            "Epoch 90/200\n",
            "7/7 - 12s - loss: 1.1491e-05 - accuracy: 1.0000 - val_loss: 0.8424 - val_accuracy: 0.8846 - 12s/epoch - 2s/step\n",
            "Epoch 91/200\n",
            "7/7 - 12s - loss: 2.5032e-05 - accuracy: 1.0000 - val_loss: 1.1355 - val_accuracy: 0.8654 - 12s/epoch - 2s/step\n",
            "Epoch 92/200\n",
            "7/7 - 12s - loss: 1.1328e-07 - accuracy: 1.0000 - val_loss: 0.8303 - val_accuracy: 0.8654 - 12s/epoch - 2s/step\n",
            "Epoch 93/200\n",
            "7/7 - 12s - loss: 5.3066e-06 - accuracy: 1.0000 - val_loss: 1.3991 - val_accuracy: 0.8654 - 12s/epoch - 2s/step\n",
            "Epoch 94/200\n",
            "7/7 - 12s - loss: 3.7180e-05 - accuracy: 1.0000 - val_loss: 1.0789 - val_accuracy: 0.8654 - 12s/epoch - 2s/step\n",
            "Epoch 95/200\n",
            "7/7 - 12s - loss: 7.1679e-07 - accuracy: 1.0000 - val_loss: 1.3810 - val_accuracy: 0.8654 - 12s/epoch - 2s/step\n",
            "Epoch 96/200\n",
            "7/7 - 12s - loss: 1.2111e-06 - accuracy: 1.0000 - val_loss: 1.6845 - val_accuracy: 0.8462 - 12s/epoch - 2s/step\n",
            "Epoch 97/200\n",
            "7/7 - 12s - loss: 1.5568e-05 - accuracy: 1.0000 - val_loss: 1.0863 - val_accuracy: 0.8846 - 12s/epoch - 2s/step\n",
            "Epoch 98/200\n",
            "7/7 - 12s - loss: 2.8559e-06 - accuracy: 1.0000 - val_loss: 0.7089 - val_accuracy: 0.8846 - 12s/epoch - 2s/step\n",
            "Epoch 99/200\n",
            "7/7 - 12s - loss: 1.4348e-07 - accuracy: 1.0000 - val_loss: 1.4692 - val_accuracy: 0.8462 - 12s/epoch - 2s/step\n",
            "Epoch 100/200\n",
            "7/7 - 12s - loss: 3.7319e-08 - accuracy: 1.0000 - val_loss: 1.1049 - val_accuracy: 0.8846 - 12s/epoch - 2s/step\n",
            "Epoch 101/200\n",
            "7/7 - 12s - loss: 7.9559e-07 - accuracy: 1.0000 - val_loss: 1.3032 - val_accuracy: 0.8462 - 12s/epoch - 2s/step\n",
            "Epoch 102/200\n",
            "7/7 - 12s - loss: 9.8035e-07 - accuracy: 1.0000 - val_loss: 1.0281 - val_accuracy: 0.8654 - 12s/epoch - 2s/step\n",
            "Epoch 103/200\n",
            "7/7 - 13s - loss: 5.4849e-05 - accuracy: 1.0000 - val_loss: 1.2792 - val_accuracy: 0.8846 - 13s/epoch - 2s/step\n",
            "Epoch 104/200\n",
            "7/7 - 12s - loss: 4.5970e-07 - accuracy: 1.0000 - val_loss: 1.7309 - val_accuracy: 0.8462 - 12s/epoch - 2s/step\n",
            "Epoch 105/200\n",
            "7/7 - 12s - loss: 2.3922e-07 - accuracy: 1.0000 - val_loss: 1.5176 - val_accuracy: 0.8462 - 12s/epoch - 2s/step\n",
            "Epoch 106/200\n",
            "7/7 - 12s - loss: 2.4474e-08 - accuracy: 1.0000 - val_loss: 1.1178 - val_accuracy: 0.8462 - 12s/epoch - 2s/step\n",
            "Epoch 107/200\n",
            "7/7 - 12s - loss: 9.4225e-09 - accuracy: 1.0000 - val_loss: 1.0570 - val_accuracy: 0.8462 - 12s/epoch - 2s/step\n",
            "Epoch 108/200\n",
            "7/7 - 13s - loss: 7.7863e-08 - accuracy: 1.0000 - val_loss: 1.5202 - val_accuracy: 0.8462 - 13s/epoch - 2s/step\n",
            "Epoch 109/200\n",
            "7/7 - 13s - loss: 4.4715e-07 - accuracy: 1.0000 - val_loss: 1.3727 - val_accuracy: 0.8654 - 13s/epoch - 2s/step\n",
            "Epoch 110/200\n",
            "7/7 - 12s - loss: 3.3431e-07 - accuracy: 1.0000 - val_loss: 1.1481 - val_accuracy: 0.8846 - 12s/epoch - 2s/step\n",
            "Epoch 111/200\n",
            "7/7 - 12s - loss: 2.7757e-08 - accuracy: 1.0000 - val_loss: 1.0893 - val_accuracy: 0.8462 - 12s/epoch - 2s/step\n",
            "Epoch 112/200\n",
            "7/7 - 12s - loss: 3.6523e-09 - accuracy: 1.0000 - val_loss: 1.4529 - val_accuracy: 0.8462 - 12s/epoch - 2s/step\n",
            "Epoch 113/200\n",
            "7/7 - 12s - loss: 6.7799e-09 - accuracy: 1.0000 - val_loss: 1.0877 - val_accuracy: 0.8654 - 12s/epoch - 2s/step\n",
            "Epoch 114/200\n",
            "7/7 - 12s - loss: 1.2147e-07 - accuracy: 1.0000 - val_loss: 1.3686 - val_accuracy: 0.8654 - 12s/epoch - 2s/step\n",
            "Epoch 115/200\n",
            "7/7 - 12s - loss: 5.8866e-05 - accuracy: 1.0000 - val_loss: 1.5591 - val_accuracy: 0.8462 - 12s/epoch - 2s/step\n",
            "Epoch 116/200\n",
            "7/7 - 12s - loss: 1.7398e-08 - accuracy: 1.0000 - val_loss: 1.8662 - val_accuracy: 0.8462 - 12s/epoch - 2s/step\n",
            "Epoch 117/200\n",
            "7/7 - 12s - loss: 1.2045e-06 - accuracy: 1.0000 - val_loss: 1.3486 - val_accuracy: 0.8654 - 12s/epoch - 2s/step\n",
            "Epoch 118/200\n",
            "7/7 - 12s - loss: 2.8871e-09 - accuracy: 1.0000 - val_loss: 1.5379 - val_accuracy: 0.8462 - 12s/epoch - 2s/step\n",
            "Epoch 119/200\n",
            "7/7 - 12s - loss: 3.0366e-07 - accuracy: 1.0000 - val_loss: 1.2580 - val_accuracy: 0.8654 - 12s/epoch - 2s/step\n",
            "Epoch 120/200\n",
            "7/7 - 12s - loss: 3.0564e-05 - accuracy: 1.0000 - val_loss: 1.8551 - val_accuracy: 0.8462 - 12s/epoch - 2s/step\n",
            "Epoch 121/200\n",
            "7/7 - 12s - loss: 5.8959e-06 - accuracy: 1.0000 - val_loss: 1.2775 - val_accuracy: 0.8654 - 12s/epoch - 2s/step\n",
            "Epoch 122/200\n",
            "7/7 - 12s - loss: 8.6599e-07 - accuracy: 1.0000 - val_loss: 1.7868 - val_accuracy: 0.8654 - 12s/epoch - 2s/step\n",
            "Epoch 123/200\n",
            "7/7 - 12s - loss: 4.9882e-07 - accuracy: 1.0000 - val_loss: 1.5692 - val_accuracy: 0.8654 - 12s/epoch - 2s/step\n",
            "Epoch 124/200\n",
            "7/7 - 12s - loss: 3.3035e-08 - accuracy: 1.0000 - val_loss: 1.2124 - val_accuracy: 0.8654 - 12s/epoch - 2s/step\n",
            "Epoch 125/200\n",
            "7/7 - 13s - loss: 2.3962e-08 - accuracy: 1.0000 - val_loss: 1.4905 - val_accuracy: 0.8462 - 13s/epoch - 2s/step\n",
            "Epoch 126/200\n",
            "7/7 - 12s - loss: 9.7959e-09 - accuracy: 1.0000 - val_loss: 1.2282 - val_accuracy: 0.8462 - 12s/epoch - 2s/step\n",
            "Epoch 127/200\n",
            "7/7 - 12s - loss: 2.3500e-08 - accuracy: 1.0000 - val_loss: 1.2205 - val_accuracy: 0.8654 - 12s/epoch - 2s/step\n",
            "Epoch 128/200\n",
            "7/7 - 12s - loss: 1.1578e-05 - accuracy: 1.0000 - val_loss: 1.7337 - val_accuracy: 0.8654 - 12s/epoch - 2s/step\n",
            "Epoch 129/200\n",
            "7/7 - 12s - loss: 2.2091e-09 - accuracy: 1.0000 - val_loss: 1.5013 - val_accuracy: 0.8462 - 12s/epoch - 2s/step\n",
            "Epoch 130/200\n",
            "7/7 - 12s - loss: 3.9687e-07 - accuracy: 1.0000 - val_loss: 1.2887 - val_accuracy: 0.8462 - 12s/epoch - 2s/step\n",
            "Epoch 131/200\n",
            "7/7 - 12s - loss: 5.4740e-06 - accuracy: 1.0000 - val_loss: 1.4833 - val_accuracy: 0.8462 - 12s/epoch - 2s/step\n",
            "Epoch 132/200\n",
            "7/7 - 13s - loss: 6.4003e-06 - accuracy: 1.0000 - val_loss: 1.6460 - val_accuracy: 0.8654 - 13s/epoch - 2s/step\n",
            "Epoch 133/200\n",
            "7/7 - 13s - loss: 2.8855e-08 - accuracy: 1.0000 - val_loss: 1.7035 - val_accuracy: 0.8462 - 13s/epoch - 2s/step\n",
            "Epoch 134/200\n",
            "7/7 - 13s - loss: 6.5175e-08 - accuracy: 1.0000 - val_loss: 1.8959 - val_accuracy: 0.8462 - 13s/epoch - 2s/step\n",
            "Epoch 135/200\n",
            "7/7 - 13s - loss: 2.6906e-06 - accuracy: 1.0000 - val_loss: 1.4298 - val_accuracy: 0.8654 - 13s/epoch - 2s/step\n",
            "Epoch 136/200\n",
            "7/7 - 13s - loss: 3.2221e-08 - accuracy: 1.0000 - val_loss: 0.9918 - val_accuracy: 0.8654 - 13s/epoch - 2s/step\n",
            "Epoch 137/200\n",
            "7/7 - 12s - loss: 9.6339e-07 - accuracy: 1.0000 - val_loss: 1.3509 - val_accuracy: 0.8462 - 12s/epoch - 2s/step\n",
            "Epoch 138/200\n",
            "7/7 - 12s - loss: 3.6031e-08 - accuracy: 1.0000 - val_loss: 1.1516 - val_accuracy: 0.8462 - 12s/epoch - 2s/step\n",
            "Epoch 139/200\n",
            "7/7 - 12s - loss: 1.0794e-07 - accuracy: 1.0000 - val_loss: 1.1523 - val_accuracy: 0.8654 - 12s/epoch - 2s/step\n",
            "Epoch 140/200\n",
            "7/7 - 12s - loss: 5.0118e-06 - accuracy: 1.0000 - val_loss: 1.4581 - val_accuracy: 0.8654 - 12s/epoch - 2s/step\n",
            "Epoch 141/200\n",
            "7/7 - 13s - loss: 5.2637e-09 - accuracy: 1.0000 - val_loss: 1.0957 - val_accuracy: 0.8654 - 13s/epoch - 2s/step\n",
            "Epoch 142/200\n",
            "7/7 - 12s - loss: 3.5022e-07 - accuracy: 1.0000 - val_loss: 1.2636 - val_accuracy: 0.8654 - 12s/epoch - 2s/step\n",
            "Epoch 143/200\n",
            "7/7 - 13s - loss: 1.3179e-07 - accuracy: 1.0000 - val_loss: 1.7886 - val_accuracy: 0.8462 - 13s/epoch - 2s/step\n",
            "Epoch 144/200\n",
            "7/7 - 13s - loss: 6.0780e-08 - accuracy: 1.0000 - val_loss: 1.5870 - val_accuracy: 0.8462 - 13s/epoch - 2s/step\n",
            "Epoch 145/200\n",
            "7/7 - 13s - loss: 9.1620e-09 - accuracy: 1.0000 - val_loss: 1.5337 - val_accuracy: 0.8462 - 13s/epoch - 2s/step\n",
            "Epoch 146/200\n",
            "7/7 - 13s - loss: 1.3683e-08 - accuracy: 1.0000 - val_loss: 1.8378 - val_accuracy: 0.8462 - 13s/epoch - 2s/step\n",
            "Epoch 147/200\n",
            "7/7 - 13s - loss: 1.2407e-06 - accuracy: 1.0000 - val_loss: 1.4729 - val_accuracy: 0.8462 - 13s/epoch - 2s/step\n",
            "Epoch 148/200\n",
            "7/7 - 13s - loss: 1.1281e-07 - accuracy: 1.0000 - val_loss: 1.2789 - val_accuracy: 0.8462 - 13s/epoch - 2s/step\n",
            "Epoch 149/200\n",
            "7/7 - 13s - loss: 1.1367e-08 - accuracy: 1.0000 - val_loss: 1.7880 - val_accuracy: 0.8462 - 13s/epoch - 2s/step\n",
            "Epoch 150/200\n",
            "7/7 - 13s - loss: 1.1465e-06 - accuracy: 1.0000 - val_loss: 1.6257 - val_accuracy: 0.8654 - 13s/epoch - 2s/step\n",
            "Epoch 151/200\n",
            "7/7 - 13s - loss: 1.0550e-06 - accuracy: 1.0000 - val_loss: 1.4909 - val_accuracy: 0.8462 - 13s/epoch - 2s/step\n",
            "Epoch 152/200\n",
            "7/7 - 13s - loss: 1.6583e-05 - accuracy: 1.0000 - val_loss: 1.2596 - val_accuracy: 0.8654 - 13s/epoch - 2s/step\n",
            "Epoch 153/200\n",
            "7/7 - 13s - loss: 9.2493e-08 - accuracy: 1.0000 - val_loss: 1.3915 - val_accuracy: 0.8654 - 13s/epoch - 2s/step\n",
            "Epoch 154/200\n",
            "7/7 - 13s - loss: 7.9237e-07 - accuracy: 1.0000 - val_loss: 1.5093 - val_accuracy: 0.8462 - 13s/epoch - 2s/step\n",
            "Epoch 155/200\n",
            "7/7 - 13s - loss: 5.2105e-06 - accuracy: 1.0000 - val_loss: 1.5842 - val_accuracy: 0.8462 - 13s/epoch - 2s/step\n",
            "Epoch 156/200\n",
            "7/7 - 13s - loss: 1.5999e-07 - accuracy: 1.0000 - val_loss: 1.2731 - val_accuracy: 0.8462 - 13s/epoch - 2s/step\n",
            "Epoch 157/200\n",
            "7/7 - 13s - loss: 1.6206e-07 - accuracy: 1.0000 - val_loss: 1.6959 - val_accuracy: 0.8654 - 13s/epoch - 2s/step\n",
            "Epoch 158/200\n",
            "7/7 - 12s - loss: 1.8471e-06 - accuracy: 1.0000 - val_loss: 1.5866 - val_accuracy: 0.8462 - 12s/epoch - 2s/step\n",
            "Epoch 159/200\n",
            "7/7 - 13s - loss: 1.3337e-09 - accuracy: 1.0000 - val_loss: 1.6382 - val_accuracy: 0.8462 - 13s/epoch - 2s/step\n",
            "Epoch 160/200\n",
            "7/7 - 13s - loss: 6.1039e-07 - accuracy: 1.0000 - val_loss: 1.4756 - val_accuracy: 0.8462 - 13s/epoch - 2s/step\n",
            "Epoch 161/200\n",
            "7/7 - 12s - loss: 1.9058e-08 - accuracy: 1.0000 - val_loss: 1.9111 - val_accuracy: 0.8462 - 12s/epoch - 2s/step\n",
            "Epoch 162/200\n",
            "7/7 - 12s - loss: 2.7794e-07 - accuracy: 1.0000 - val_loss: 1.5815 - val_accuracy: 0.8462 - 12s/epoch - 2s/step\n",
            "Epoch 163/200\n",
            "7/7 - 12s - loss: 4.3987e-07 - accuracy: 1.0000 - val_loss: 1.6284 - val_accuracy: 0.8654 - 12s/epoch - 2s/step\n",
            "Epoch 164/200\n",
            "7/7 - 12s - loss: 1.1829e-08 - accuracy: 1.0000 - val_loss: 1.1922 - val_accuracy: 0.8462 - 12s/epoch - 2s/step\n",
            "Epoch 165/200\n",
            "7/7 - 12s - loss: 2.2415e-07 - accuracy: 1.0000 - val_loss: 1.4959 - val_accuracy: 0.8654 - 12s/epoch - 2s/step\n",
            "Epoch 166/200\n",
            "7/7 - 12s - loss: 7.0854e-07 - accuracy: 1.0000 - val_loss: 2.0707 - val_accuracy: 0.8462 - 12s/epoch - 2s/step\n",
            "Epoch 167/200\n",
            "7/7 - 12s - loss: 1.5307e-08 - accuracy: 1.0000 - val_loss: 1.5728 - val_accuracy: 0.8462 - 12s/epoch - 2s/step\n",
            "Epoch 168/200\n",
            "7/7 - 12s - loss: 3.4576e-09 - accuracy: 1.0000 - val_loss: 1.3466 - val_accuracy: 0.8462 - 12s/epoch - 2s/step\n",
            "Epoch 169/200\n",
            "7/7 - 12s - loss: 8.9883e-07 - accuracy: 1.0000 - val_loss: 1.4772 - val_accuracy: 0.8462 - 12s/epoch - 2s/step\n",
            "Epoch 170/200\n",
            "7/7 - 12s - loss: 4.3878e-09 - accuracy: 1.0000 - val_loss: 1.3905 - val_accuracy: 0.8654 - 12s/epoch - 2s/step\n",
            "Epoch 171/200\n",
            "7/7 - 12s - loss: 5.9521e-09 - accuracy: 1.0000 - val_loss: 1.1939 - val_accuracy: 0.8462 - 12s/epoch - 2s/step\n",
            "Epoch 172/200\n",
            "7/7 - 12s - loss: 6.3096e-09 - accuracy: 1.0000 - val_loss: 1.6876 - val_accuracy: 0.8462 - 12s/epoch - 2s/step\n",
            "Epoch 173/200\n",
            "7/7 - 12s - loss: 3.1529e-04 - accuracy: 1.0000 - val_loss: 1.1194 - val_accuracy: 0.8654 - 12s/epoch - 2s/step\n",
            "Epoch 174/200\n",
            "7/7 - 12s - loss: 2.6152e-05 - accuracy: 1.0000 - val_loss: 1.0474 - val_accuracy: 0.8846 - 12s/epoch - 2s/step\n",
            "Epoch 175/200\n",
            "7/7 - 12s - loss: 5.9468e-05 - accuracy: 1.0000 - val_loss: 0.9185 - val_accuracy: 0.8654 - 12s/epoch - 2s/step\n",
            "Epoch 176/200\n",
            "7/7 - 12s - loss: 7.6279e-05 - accuracy: 1.0000 - val_loss: 0.9891 - val_accuracy: 0.8654 - 12s/epoch - 2s/step\n",
            "Epoch 177/200\n",
            "7/7 - 12s - loss: 1.6365e-06 - accuracy: 1.0000 - val_loss: 1.2210 - val_accuracy: 0.8846 - 12s/epoch - 2s/step\n",
            "Epoch 178/200\n",
            "7/7 - 12s - loss: 5.0322e-07 - accuracy: 1.0000 - val_loss: 1.3015 - val_accuracy: 0.8462 - 12s/epoch - 2s/step\n",
            "Epoch 179/200\n",
            "7/7 - 13s - loss: 9.2590e-08 - accuracy: 1.0000 - val_loss: 1.3995 - val_accuracy: 0.8654 - 13s/epoch - 2s/step\n",
            "Epoch 180/200\n",
            "7/7 - 13s - loss: 6.2216e-04 - accuracy: 1.0000 - val_loss: 2.0191 - val_accuracy: 0.8462 - 13s/epoch - 2s/step\n",
            "Epoch 181/200\n",
            "7/7 - 12s - loss: 7.6393e-04 - accuracy: 1.0000 - val_loss: 2.1344 - val_accuracy: 0.8462 - 12s/epoch - 2s/step\n",
            "Epoch 182/200\n",
            "7/7 - 12s - loss: 2.0502e-08 - accuracy: 1.0000 - val_loss: 1.8081 - val_accuracy: 0.8462 - 12s/epoch - 2s/step\n",
            "Epoch 183/200\n",
            "7/7 - 13s - loss: 1.2087e-08 - accuracy: 1.0000 - val_loss: 1.3487 - val_accuracy: 0.8654 - 13s/epoch - 2s/step\n",
            "Epoch 184/200\n",
            "7/7 - 12s - loss: 1.1344e-05 - accuracy: 1.0000 - val_loss: 1.0740 - val_accuracy: 0.8654 - 12s/epoch - 2s/step\n",
            "Epoch 185/200\n",
            "7/7 - 12s - loss: 2.0156e-06 - accuracy: 1.0000 - val_loss: 1.2815 - val_accuracy: 0.9038 - 12s/epoch - 2s/step\n",
            "Epoch 186/200\n",
            "7/7 - 13s - loss: 2.3761e-05 - accuracy: 1.0000 - val_loss: 1.3434 - val_accuracy: 0.8462 - 13s/epoch - 2s/step\n",
            "Epoch 187/200\n",
            "7/7 - 12s - loss: 1.2086e-04 - accuracy: 1.0000 - val_loss: 1.2195 - val_accuracy: 0.8462 - 12s/epoch - 2s/step\n",
            "Epoch 188/200\n",
            "7/7 - 12s - loss: 1.3352e-08 - accuracy: 1.0000 - val_loss: 0.9396 - val_accuracy: 0.8462 - 12s/epoch - 2s/step\n",
            "Epoch 189/200\n",
            "7/7 - 12s - loss: 7.4662e-07 - accuracy: 1.0000 - val_loss: 1.2349 - val_accuracy: 0.8846 - 12s/epoch - 2s/step\n",
            "Epoch 190/200\n",
            "7/7 - 13s - loss: 5.0084e-08 - accuracy: 1.0000 - val_loss: 1.4032 - val_accuracy: 0.8462 - 13s/epoch - 2s/step\n",
            "Epoch 191/200\n",
            "7/7 - 13s - loss: 3.2087e-08 - accuracy: 1.0000 - val_loss: 1.6249 - val_accuracy: 0.8462 - 13s/epoch - 2s/step\n",
            "Epoch 192/200\n",
            "7/7 - 13s - loss: 2.3181e-06 - accuracy: 1.0000 - val_loss: 1.7893 - val_accuracy: 0.8462 - 13s/epoch - 2s/step\n",
            "Epoch 193/200\n",
            "7/7 - 13s - loss: 7.5475e-08 - accuracy: 1.0000 - val_loss: 1.3982 - val_accuracy: 0.8654 - 13s/epoch - 2s/step\n",
            "Epoch 194/200\n",
            "7/7 - 13s - loss: 4.0966e-07 - accuracy: 1.0000 - val_loss: 1.1472 - val_accuracy: 0.8654 - 13s/epoch - 2s/step\n",
            "Epoch 195/200\n",
            "7/7 - 13s - loss: 1.4623e-07 - accuracy: 1.0000 - val_loss: 1.4077 - val_accuracy: 0.8462 - 13s/epoch - 2s/step\n",
            "Epoch 196/200\n",
            "7/7 - 13s - loss: 2.2137e-07 - accuracy: 1.0000 - val_loss: 1.6580 - val_accuracy: 0.8462 - 13s/epoch - 2s/step\n",
            "Epoch 197/200\n",
            "7/7 - 13s - loss: 2.1615e-08 - accuracy: 1.0000 - val_loss: 1.8574 - val_accuracy: 0.8462 - 13s/epoch - 2s/step\n",
            "Epoch 198/200\n",
            "7/7 - 13s - loss: 2.2767e-06 - accuracy: 1.0000 - val_loss: 1.2545 - val_accuracy: 0.8654 - 13s/epoch - 2s/step\n",
            "Epoch 199/200\n",
            "7/7 - 13s - loss: 2.1045e-07 - accuracy: 1.0000 - val_loss: 1.0697 - val_accuracy: 0.8462 - 13s/epoch - 2s/step\n",
            "Epoch 200/200\n",
            "7/7 - 13s - loss: 4.2335e-08 - accuracy: 1.0000 - val_loss: 1.2441 - val_accuracy: 0.8846 - 13s/epoch - 2s/step\n",
            "Training time for MNV2:  3251.8062357902527 secs\n"
          ]
        }
      ]
    },
    {
      "cell_type": "code",
      "source": [
        "mnv2_train_history = pd.DataFrame(history_MNV2.history)\n",
        "file_name = \"mnv2_history.csv\"\n",
        "mnv2_train_history.to_csv(file_name)"
      ],
      "metadata": {
        "id": "MLT-_2Fr04Ly"
      },
      "execution_count": 53,
      "outputs": []
    },
    {
      "cell_type": "code",
      "source": [
        "mnv2_train_time"
      ],
      "metadata": {
        "colab": {
          "base_uri": "https://localhost:8080/"
        },
        "id": "h9BY8jzI06yz",
        "outputId": "73a3aa98-baa0-420f-ab00-ce09d85b867c"
      },
      "execution_count": 54,
      "outputs": [
        {
          "output_type": "execute_result",
          "data": {
            "text/plain": [
              "54.19677059650421"
            ]
          },
          "metadata": {},
          "execution_count": 54
        }
      ]
    },
    {
      "cell_type": "code",
      "source": [
        "sMNV2 = time.time()\n",
        "predictionsMNV2 = modelMNV2.predict(y_val)\n",
        "eMNV2 = time.time()"
      ],
      "metadata": {
        "id": "QtZXclFC3G4x"
      },
      "execution_count": 55,
      "outputs": []
    },
    {
      "cell_type": "code",
      "source": [
        "print(\"Test time for MNV2: \", eMNV2 - sMNV2,\"secs\")\n",
        "mnv2_test_time = (eMNV2 - sMNV2) / 60"
      ],
      "metadata": {
        "colab": {
          "base_uri": "https://localhost:8080/"
        },
        "id": "2XET9q5f3J74",
        "outputId": "77935bfd-9445-4fb0-8592-4dfb950542a9"
      },
      "execution_count": 56,
      "outputs": [
        {
          "output_type": "stream",
          "name": "stdout",
          "text": [
            "Test time for MNV2:  2.1752336025238037 secs\n"
          ]
        }
      ]
    },
    {
      "cell_type": "code",
      "source": [
        "predictedMNV2 = [np.argmax(w) for w in predictionsMNV2]\n",
        "expectedMNV2 = y_val.labels"
      ],
      "metadata": {
        "id": "cu2wKb4_3MIM"
      },
      "execution_count": 57,
      "outputs": []
    },
    {
      "cell_type": "code",
      "source": [
        "y_val.labels"
      ],
      "metadata": {
        "colab": {
          "base_uri": "https://localhost:8080/"
        },
        "id": "fo-PzFwEqUT1",
        "outputId": "90b79c80-d2e3-436a-9b56-97e2f0f686b1"
      },
      "execution_count": 97,
      "outputs": [
        {
          "output_type": "execute_result",
          "data": {
            "text/plain": [
              "[0, 0, 1, 0, 1, 1, 0, 0, 1, 0, 1, 0, 1, 1, 0, 1, 0, 0, 1, 0, 1, 0, 1]"
            ]
          },
          "metadata": {},
          "execution_count": 97
        }
      ]
    },
    {
      "cell_type": "code",
      "source": [
        "loss_valueMNV2 , accuracyMNV2 = modelMNV2.evaluate(y_val)\n",
        "\n",
        "print(f'Test loss_value MNV2: {loss_valueMNV2}')\n",
        "print(f'Test accuracy MNV2: {accuracyMNV2}')"
      ],
      "metadata": {
        "colab": {
          "base_uri": "https://localhost:8080/"
        },
        "id": "lDWp4thz3P8Q",
        "outputId": "f295d6fb-5f0f-497a-b9c4-e3538fd32d52"
      },
      "execution_count": 58,
      "outputs": [
        {
          "output_type": "stream",
          "name": "stdout",
          "text": [
            "1/1 [==============================] - 1s 1s/step - loss: 0.1644 - accuracy: 0.9565\n",
            "Test loss_value MNV2: 0.16436272859573364\n",
            "Test accuracy MNV2: 0.95652174949646\n"
          ]
        }
      ]
    },
    {
      "cell_type": "code",
      "source": [
        "print(\"MNV2 confusion matrix: \")\n",
        "confusion_matrix(expectedMNV2, predictedMNV2)"
      ],
      "metadata": {
        "colab": {
          "base_uri": "https://localhost:8080/"
        },
        "id": "g7gkwdJn3SP3",
        "outputId": "233dc907-6575-4072-c53e-5a588576ea8e"
      },
      "execution_count": 59,
      "outputs": [
        {
          "output_type": "stream",
          "name": "stdout",
          "text": [
            "MNV2 confusion matrix: \n"
          ]
        },
        {
          "output_type": "execute_result",
          "data": {
            "text/plain": [
              "array([[11,  1],\n",
              "       [ 0, 11]])"
            ]
          },
          "metadata": {},
          "execution_count": 59
        }
      ]
    },
    {
      "cell_type": "code",
      "source": [
        "print(f'Classes: {y_val.class_indices}\\n')\n",
        "print(classification_report(expectedMNV2, predictedMNV2))"
      ],
      "metadata": {
        "colab": {
          "base_uri": "https://localhost:8080/"
        },
        "id": "3L7iafuK3U8L",
        "outputId": "fcbd8122-ab34-426f-cca4-b39d89ed7d3b"
      },
      "execution_count": 60,
      "outputs": [
        {
          "output_type": "stream",
          "name": "stdout",
          "text": [
            "Classes: {'B': 0, 'M': 1}\n",
            "\n",
            "              precision    recall  f1-score   support\n",
            "\n",
            "           0       1.00      0.92      0.96        12\n",
            "           1       0.92      1.00      0.96        11\n",
            "\n",
            "    accuracy                           0.96        23\n",
            "   macro avg       0.96      0.96      0.96        23\n",
            "weighted avg       0.96      0.96      0.96        23\n",
            "\n"
          ]
        }
      ]
    },
    {
      "cell_type": "code",
      "source": [
        ""
      ],
      "metadata": {
        "id": "eLQ55OallRBm"
      },
      "execution_count": null,
      "outputs": []
    },
    {
      "cell_type": "code",
      "source": [
        "results_plot = plot_results(history_MNV2.history['accuracy'],\n",
        "                            history_MNV2.history['val_accuracy'], \n",
        "                            history_MNV2.history['loss'], \n",
        "                            history_MNV2.history['val_loss'])\n",
        "\n",
        "# enter data to the final results dataframe\n",
        "results_calc = classification_report(expectedMNV2, predictedMNV2, output_dict=True)"
      ],
      "metadata": {
        "colab": {
          "base_uri": "https://localhost:8080/",
          "height": 404
        },
        "id": "OMm-YunJ3ZLg",
        "outputId": "5baa7fe4-133b-4e42-ad98-d129eb5a3a7e"
      },
      "execution_count": 61,
      "outputs": [
        {
          "output_type": "display_data",
          "data": {
            "image/png": "[encoded data removed]",
            "text/plain": [
              "<Figure size 1080x432 with 2 Axes>"
            ]
          },
          "metadata": {
            "needs_background": "light"
          }
        }
      ]
    },
    {
      "cell_type": "code",
      "source": [
        "y_test"
      ],
      "metadata": {
        "colab": {
          "base_uri": "https://localhost:8080/"
        },
        "id": "9UuUsNZ93clT",
        "outputId": "a3226ad8-8e4d-47c2-c7ea-c9650476e5f3"
      },
      "execution_count": 62,
      "outputs": [
        {
          "output_type": "execute_result",
          "data": {
            "text/plain": [
              "<keras.preprocessing.image.DataFrameIterator at 0x7f4339913990>"
            ]
          },
          "metadata": {},
          "execution_count": 62
        }
      ]
    },
    {
      "cell_type": "code",
      "source": [
        "x= y_test.next()\n",
        "img1 = x[0]\n",
        "plt.imshow(img1[0])\n",
        "plt.show()"
      ],
      "metadata": {
        "colab": {
          "base_uri": "https://localhost:8080/",
          "height": 269
        },
        "id": "WzYzppaV3jpA",
        "outputId": "55c742b4-b48a-4189-85b0-c12d7ba71953"
      },
      "execution_count": 63,
      "outputs": [
        {
          "output_type": "display_data",
          "data": {
            "image/png": "[encoded data removed]",
            "text/plain": [
              "<Figure size 432x288 with 1 Axes>"
            ]
          },
          "metadata": {
            "needs_background": "light"
          }
        }
      ]
    },
    {
      "cell_type": "code",
      "source": [
        "plt.imshow(img1[1])\n",
        "plt.show()"
      ],
      "metadata": {
        "colab": {
          "base_uri": "https://localhost:8080/",
          "height": 269
        },
        "id": "4xQh1c2o3ln4",
        "outputId": "26a803bc-9b36-4cb3-e0df-eb77cc29e2e1"
      },
      "execution_count": 64,
      "outputs": [
        {
          "output_type": "display_data",
          "data": {
            "image/png": "[encoded data removed]",
            "text/plain": [
              "<Figure size 432x288 with 1 Axes>"
            ]
          },
          "metadata": {
            "needs_background": "light"
          }
        }
      ]
    },
    {
      "cell_type": "code",
      "source": [
        "plt.imshow(img1[4])\n",
        "plt.show()"
      ],
      "metadata": {
        "colab": {
          "base_uri": "https://localhost:8080/",
          "height": 269
        },
        "id": "v_b1-YyV3ntz",
        "outputId": "f2989555-66b0-403c-a614-282b31a50ccc"
      },
      "execution_count": 65,
      "outputs": [
        {
          "output_type": "display_data",
          "data": {
            "image/png": "[encoded data removed]",
            "text/plain": [
              "<Figure size 432x288 with 1 Axes>"
            ]
          },
          "metadata": {
            "needs_background": "light"
          }
        }
      ]
    },
    {
      "cell_type": "code",
      "source": [
        "y_test.labels"
      ],
      "metadata": {
        "colab": {
          "base_uri": "https://localhost:8080/"
        },
        "id": "i5LWL3jc3pWR",
        "outputId": "fa4654fd-8303-4993-a4a6-be3bb2a70937"
      },
      "execution_count": 66,
      "outputs": [
        {
          "output_type": "execute_result",
          "data": {
            "text/plain": [
              "[0, 1, 1, 0, 1]"
            ]
          },
          "metadata": {},
          "execution_count": 66
        }
      ]
    },
    {
      "cell_type": "code",
      "source": [
        "sMNV2 = time.time()\n",
        "predictionsMNV2 = modelMNV2.predict(y_test)\n",
        "eMNV2 = time.time()"
      ],
      "metadata": {
        "id": "Ztw-AjFU3tMY"
      },
      "execution_count": 67,
      "outputs": []
    },
    {
      "cell_type": "code",
      "source": [
        "\n",
        "print(\"Test time for MNV2: \", eMNV2 - sMNV2,\"secs\")\n",
        "mnv2_test_time_5 = (eMNV2 - sMNV2) / 60"
      ],
      "metadata": {
        "colab": {
          "base_uri": "https://localhost:8080/"
        },
        "id": "MutApC4e3yBE",
        "outputId": "ce2314ab-d36e-4cbb-97ff-04f7c91d464c"
      },
      "execution_count": 68,
      "outputs": [
        {
          "output_type": "stream",
          "name": "stdout",
          "text": [
            "Test time for MNV2:  0.3997468948364258 secs\n"
          ]
        }
      ]
    },
    {
      "cell_type": "code",
      "source": [
        "predictedMNV2 = [np.argmax(w) for w in predictionsMNV2]\n",
        "expectedMNV2 = y_test.labels\n"
      ],
      "metadata": {
        "id": "PhpN6BOT32sb"
      },
      "execution_count": 69,
      "outputs": []
    },
    {
      "cell_type": "code",
      "source": [
        "print(\"MNV2 confusion matrix: \")\n",
        "print(confusion_matrix(expectedMNV2, predictedMNV2))"
      ],
      "metadata": {
        "colab": {
          "base_uri": "https://localhost:8080/"
        },
        "id": "rppYWJVp3447",
        "outputId": "b192a4fb-e241-44da-9ced-b8cd5055fb46"
      },
      "execution_count": 70,
      "outputs": [
        {
          "output_type": "stream",
          "name": "stdout",
          "text": [
            "MNV2 confusion matrix: \n",
            "[[2 0]\n",
            " [0 3]]\n"
          ]
        }
      ]
    },
    {
      "cell_type": "code",
      "source": [
        "from sklearn import metrics\n",
        "print(metrics.classification_report(expectedMNV2, predictedMNV2, digits=3))"
      ],
      "metadata": {
        "colab": {
          "base_uri": "https://localhost:8080/"
        },
        "id": "QxqMC5aID-rU",
        "outputId": "6118411a-1b0f-46c1-ec06-7f7d88798b90"
      },
      "execution_count": 71,
      "outputs": [
        {
          "output_type": "stream",
          "name": "stdout",
          "text": [
            "              precision    recall  f1-score   support\n",
            "\n",
            "           0      1.000     1.000     1.000         2\n",
            "           1      1.000     1.000     1.000         3\n",
            "\n",
            "    accuracy                          1.000         5\n",
            "   macro avg      1.000     1.000     1.000         5\n",
            "weighted avg      1.000     1.000     1.000         5\n",
            "\n"
          ]
        }
      ]
    },
    {
      "cell_type": "code",
      "source": [
        "from tensorflow.keras.models import load_model\n",
        "\n",
        "modelMNV2.save(\"modelMNV2.h5\",modelMNV2)"
      ],
      "metadata": {
        "colab": {
          "base_uri": "https://localhost:8080/"
        },
        "id": "pRV_EyPaEL7E",
        "outputId": "98dc4906-5aff-4538-a27a-33c980fad7a5"
      },
      "execution_count": 72,
      "outputs": [
        {
          "output_type": "stream",
          "name": "stderr",
          "text": [
            "/usr/local/lib/python3.7/dist-packages/keras/engine/functional.py:1410: CustomMaskWarning: Custom mask layers require a config and must override get_config. When loading, the custom mask layer must be passed to the custom_objects argument.\n",
            "  layer_config = serialize_layer_fn(layer)\n"
          ]
        }
      ]
    },
    {
      "cell_type": "code",
      "source": [
        "\n",
        "import tensorflow as tf\n",
        "from tensorflow.keras.models import load_model\n",
        "from tensorflow.keras.preprocessing import image\n",
        "# model=load_model('/content/modelMNV2.h5')\n",
        "modelMNV2 = tf.keras.models.load_model('modelMNV2.h5')"
      ],
      "metadata": {
        "id": "4iys9BudEXc0"
      },
      "execution_count": 74,
      "outputs": []
    },
    {
      "cell_type": "code",
      "source": [
        "final_acc = modelMNV2.evaluate(y_val)[1]\n",
        "print(f\"Final accuracy of model is = {final_acc*100}% \")"
      ],
      "metadata": {
        "colab": {
          "base_uri": "https://localhost:8080/"
        },
        "id": "TnxZp-uuEf2s",
        "outputId": "08eb2dd3-d7fd-4fea-f399-a9d80851c5e6"
      },
      "execution_count": 75,
      "outputs": [
        {
          "output_type": "stream",
          "name": "stdout",
          "text": [
            "1/1 [==============================] - 3s 3s/step - loss: 0.5525 - accuracy: 0.9565\n",
            "Final accuracy of model is = 95.652174949646% \n"
          ]
        }
      ]
    },
    {
      "cell_type": "code",
      "source": [
        "dict(zip (list(X_train.class_indices.values()), list(X_train.class_indices.keys()) ))"
      ],
      "metadata": {
        "colab": {
          "base_uri": "https://localhost:8080/"
        },
        "id": "f-pkwKW0Ekct",
        "outputId": "da6d5176-e77b-49ac-ab6d-563abef0cee0"
      },
      "execution_count": 76,
      "outputs": [
        {
          "output_type": "execute_result",
          "data": {
            "text/plain": [
              "{0: 'B', 1: 'M'}"
            ]
          },
          "metadata": {},
          "execution_count": 76
        }
      ]
    },
    {
      "cell_type": "code",
      "source": [
        "ref = dict(zip (list(X_train.class_indices.values()), list(X_train.class_indices.keys()) ))"
      ],
      "metadata": {
        "id": "197XrAF8EoXk"
      },
      "execution_count": 77,
      "outputs": []
    },
    {
      "cell_type": "code",
      "source": [
        "from tensorflow.keras.applications.mobilenet_v2 import preprocess_input"
      ],
      "metadata": {
        "id": "vCTOcsrmEqtG"
      },
      "execution_count": 78,
      "outputs": []
    },
    {
      "cell_type": "code",
      "source": [
        "mammo"
      ],
      "metadata": {
        "colab": {
          "base_uri": "https://localhost:8080/",
          "height": 5595
        },
        "id": "PegjInLmMD8c",
        "outputId": "5808efd7-275e-432e-ebbe-c5e78b668d15"
      },
      "execution_count": 79,
      "outputs": [
        {
          "output_type": "execute_result",
          "data": {
            "text/html": [
              "\n",
              "  <div id=\"df-e25c7609-1b82-4985-9ea6-7733953915d2\">\n",
              "    <div class=\"colab-df-container\">\n",
              "      <div>\n",
              "<style scoped>\n",
              "    .dataframe tbody tr th:only-of-type {\n",
              "        vertical-align: middle;\n",
              "    }\n",
              "\n",
              "    .dataframe tbody tr th {\n",
              "        vertical-align: top;\n",
              "    }\n",
              "\n",
              "    .dataframe thead th {\n",
              "        text-align: right;\n",
              "    }\n",
              "</style>\n",
              "<table border=\"1\" class=\"dataframe\">\n",
              "  <thead>\n",
              "    <tr style=\"text-align: right;\">\n",
              "      <th></th>\n",
              "      <th>ab_class</th>\n",
              "      <th>bg</th>\n",
              "      <th>p_matrix</th>\n",
              "      <th>severity</th>\n",
              "      <th>subsample_path</th>\n",
              "    </tr>\n",
              "  </thead>\n",
              "  <tbody>\n",
              "    <tr>\n",
              "      <th>mdb001_0_rotated</th>\n",
              "      <td>CIRC</td>\n",
              "      <td>G</td>\n",
              "      <td>[[0, 0, 0, 0, 1, 1, 3, 4, 4, 4, 5, 5, 5, 6, 5,...</td>\n",
              "      <td>B</td>\n",
              "      <td>../subsamples/mdb001_0_rotated.png</td>\n",
              "    </tr>\n",
              "    <tr>\n",
              "      <th>mdb001_0_mirr_lr</th>\n",
              "      <td>CIRC</td>\n",
              "      <td>G</td>\n",
              "      <td>[[125, 128, 113, 102, 98, 94, 91, 94, 97, 99, ...</td>\n",
              "      <td>B</td>\n",
              "      <td>../subsamples/mdb001_0_mirr_lr.png</td>\n",
              "    </tr>\n",
              "    <tr>\n",
              "      <th>mdb001_0_mirr_tp</th>\n",
              "      <td>CIRC</td>\n",
              "      <td>G</td>\n",
              "      <td>[[0, 0, 0, 1, 0, 0, 0, 1, 0, 1, 0, 1, 1, 1, 0,...</td>\n",
              "      <td>B</td>\n",
              "      <td>../subsamples/mdb001_0_mirr_tp.png</td>\n",
              "    </tr>\n",
              "    <tr>\n",
              "      <th>mdb001_90_rotated</th>\n",
              "      <td>CIRC</td>\n",
              "      <td>G</td>\n",
              "      <td>[[125, 125, 132, 121, 110, 99, 91, 87, 87, 88,...</td>\n",
              "      <td>B</td>\n",
              "      <td>../subsamples/mdb001_90_rotated.png</td>\n",
              "    </tr>\n",
              "    <tr>\n",
              "      <th>mdb001_90_mirr_lr</th>\n",
              "      <td>CIRC</td>\n",
              "      <td>G</td>\n",
              "      <td>[[59, 59, 61, 64, 65, 64, 67, 70, 73, 75, 77, ...</td>\n",
              "      <td>B</td>\n",
              "      <td>../subsamples/mdb001_90_mirr_lr.png</td>\n",
              "    </tr>\n",
              "    <tr>\n",
              "      <th>...</th>\n",
              "      <td>...</td>\n",
              "      <td>...</td>\n",
              "      <td>...</td>\n",
              "      <td>...</td>\n",
              "      <td>...</td>\n",
              "    </tr>\n",
              "    <tr>\n",
              "      <th>mdb322_180_mirr_lr</th>\n",
              "      <td>NORM</td>\n",
              "      <td>D</td>\n",
              "      <td>[[200, 200, 199, 198, 197, 196, 195, 194, 194,...</td>\n",
              "      <td>A</td>\n",
              "      <td>../subsamples/mdb322_180_mirr_lr.png</td>\n",
              "    </tr>\n",
              "    <tr>\n",
              "      <th>mdb322_180_mirr_tp</th>\n",
              "      <td>NORM</td>\n",
              "      <td>D</td>\n",
              "      <td>[[207, 207, 207, 207, 207, 206, 205, 205, 204,...</td>\n",
              "      <td>A</td>\n",
              "      <td>../subsamples/mdb322_180_mirr_tp.png</td>\n",
              "    </tr>\n",
              "    <tr>\n",
              "      <th>mdb322_270_rotated</th>\n",
              "      <td>NORM</td>\n",
              "      <td>D</td>\n",
              "      <td>[[200, 200, 199, 198, 196, 195, 194, 193, 192,...</td>\n",
              "      <td>A</td>\n",
              "      <td>../subsamples/mdb322_270_rotated.png</td>\n",
              "    </tr>\n",
              "    <tr>\n",
              "      <th>mdb322_270_mirr_lr</th>\n",
              "      <td>NORM</td>\n",
              "      <td>D</td>\n",
              "      <td>[[178, 178, 179, 180, 180, 181, 182, 181, 180,...</td>\n",
              "      <td>A</td>\n",
              "      <td>../subsamples/mdb322_270_mirr_lr.png</td>\n",
              "    </tr>\n",
              "    <tr>\n",
              "      <th>mdb322_270_mirr_tp</th>\n",
              "      <td>NORM</td>\n",
              "      <td>D</td>\n",
              "      <td>[[195, 195, 194, 194, 194, 195, 197, 198, 199,...</td>\n",
              "      <td>A</td>\n",
              "      <td>../subsamples/mdb322_270_mirr_tp.png</td>\n",
              "    </tr>\n",
              "  </tbody>\n",
              "</table>\n",
              "<p>3864 rows × 5 columns</p>\n",
              "</div>\n",
              "      <button class=\"colab-df-convert\" onclick=\"convertToInteractive('df-e25c7609-1b82-4985-9ea6-7733953915d2')\"\n",
              "              title=\"Convert this dataframe to an interactive table.\"\n",
              "              style=\"display:none;\">\n",
              "        \n",
              "  <svg xmlns=\"http://www.w3.org/2000/svg\" height=\"24px\"viewBox=\"0 0 24 24\"\n",
              "       width=\"24px\">\n",
              "    <path d=\"M0 0h24v24H0V0z\" fill=\"none\"/>\n",
              "    <path d=\"M18.56 5.44l.94 2.06.94-2.06 2.06-.94-2.06-.94-.94-2.06-.94 2.06-2.06.94zm-11 1L8.5 8.5l.94-2.06 2.06-.94-2.06-.94L8.5 2.5l-.94 2.06-2.06.94zm10 10l.94 2.06.94-2.06 2.06-.94-2.06-.94-.94-2.06-.94 2.06-2.06.94z\"/><path d=\"M17.41 7.96l-1.37-1.37c-.4-.4-.92-.59-1.43-.59-.52 0-1.04.2-1.43.59L10.3 9.45l-7.72 7.72c-.78.78-.78 2.05 0 2.83L4 21.41c.39.39.9.59 1.41.59.51 0 1.02-.2 1.41-.59l7.78-7.78 2.81-2.81c.8-.78.8-2.07 0-2.86zM5.41 20L4 18.59l7.72-7.72 1.47 1.35L5.41 20z\"/>\n",
              "  </svg>\n",
              "      </button>\n",
              "      \n",
              "  <style>\n",
              "    .colab-df-container {\n",
              "      display:flex;\n",
              "      flex-wrap:wrap;\n",
              "      gap: 12px;\n",
              "    }\n",
              "\n",
              "    .colab-df-convert {\n",
              "      background-color: #E8F0FE;\n",
              "      border: none;\n",
              "      border-radius: 50%;\n",
              "      cursor: pointer;\n",
              "      display: none;\n",
              "      fill: #1967D2;\n",
              "      height: 32px;\n",
              "      padding: 0 0 0 0;\n",
              "      width: 32px;\n",
              "    }\n",
              "\n",
              "    .colab-df-convert:hover {\n",
              "      background-color: #E2EBFA;\n",
              "      box-shadow: 0px 1px 2px rgba(60, 64, 67, 0.3), 0px 1px 3px 1px rgba(60, 64, 67, 0.15);\n",
              "      fill: #174EA6;\n",
              "    }\n",
              "\n",
              "    [theme=dark] .colab-df-convert {\n",
              "      background-color: #3B4455;\n",
              "      fill: #D2E3FC;\n",
              "    }\n",
              "\n",
              "    [theme=dark] .colab-df-convert:hover {\n",
              "      background-color: #434B5C;\n",
              "      box-shadow: 0px 1px 3px 1px rgba(0, 0, 0, 0.15);\n",
              "      filter: drop-shadow(0px 1px 2px rgba(0, 0, 0, 0.3));\n",
              "      fill: #FFFFFF;\n",
              "    }\n",
              "  </style>\n",
              "\n",
              "      <script>\n",
              "        const buttonEl =\n",
              "          document.querySelector('#df-e25c7609-1b82-4985-9ea6-7733953915d2 button.colab-df-convert');\n",
              "        buttonEl.style.display =\n",
              "          google.colab.kernel.accessAllowed ? 'block' : 'none';\n",
              "\n",
              "        async function convertToInteractive(key) {\n",
              "          const element = document.querySelector('#df-e25c7609-1b82-4985-9ea6-7733953915d2');\n",
              "          const dataTable =\n",
              "            await google.colab.kernel.invokeFunction('convertToInteractive',\n",
              "                                                     [key], {});\n",
              "          if (!dataTable) return;\n",
              "\n",
              "          const docLinkHtml = 'Like what you see? Visit the ' +\n",
              "            '<a target=\"_blank\" href=https://colab.research.google.com/notebooks/data_table.ipynb>data table notebook</a>'\n",
              "            + ' to learn more about interactive tables.';\n",
              "          element.innerHTML = '';\n",
              "          dataTable['output_type'] = 'display_data';\n",
              "          await google.colab.output.renderOutput(dataTable, element);\n",
              "          const docLink = document.createElement('div');\n",
              "          docLink.innerHTML = docLinkHtml;\n",
              "          element.appendChild(docLink);\n",
              "        }\n",
              "      </script>\n",
              "    </div>\n",
              "  </div>\n",
              "  "
            ],
            "text/plain": [
              "                   ab_class bg  ... severity                        subsample_path\n",
              "mdb001_0_rotated       CIRC  G  ...        B    ../subsamples/mdb001_0_rotated.png\n",
              "mdb001_0_mirr_lr       CIRC  G  ...        B    ../subsamples/mdb001_0_mirr_lr.png\n",
              "mdb001_0_mirr_tp       CIRC  G  ...        B    ../subsamples/mdb001_0_mirr_tp.png\n",
              "mdb001_90_rotated      CIRC  G  ...        B   ../subsamples/mdb001_90_rotated.png\n",
              "mdb001_90_mirr_lr      CIRC  G  ...        B   ../subsamples/mdb001_90_mirr_lr.png\n",
              "...                     ... ..  ...      ...                                   ...\n",
              "mdb322_180_mirr_lr     NORM  D  ...        A  ../subsamples/mdb322_180_mirr_lr.png\n",
              "mdb322_180_mirr_tp     NORM  D  ...        A  ../subsamples/mdb322_180_mirr_tp.png\n",
              "mdb322_270_rotated     NORM  D  ...        A  ../subsamples/mdb322_270_rotated.png\n",
              "mdb322_270_mirr_lr     NORM  D  ...        A  ../subsamples/mdb322_270_mirr_lr.png\n",
              "mdb322_270_mirr_tp     NORM  D  ...        A  ../subsamples/mdb322_270_mirr_tp.png\n",
              "\n",
              "[3864 rows x 5 columns]"
            ]
          },
          "metadata": {},
          "execution_count": 79
        }
      ]
    },
    {
      "cell_type": "code",
      "source": [
        "print(expectedMNV2)"
      ],
      "metadata": {
        "colab": {
          "base_uri": "https://localhost:8080/"
        },
        "id": "ntIbCPNnqHd-",
        "outputId": "411526ef-9eea-412d-8a18-b6d8769dea1c"
      },
      "execution_count": 96,
      "outputs": [
        {
          "output_type": "stream",
          "name": "stdout",
          "text": [
            "[0, 1, 1, 0, 1]\n"
          ]
        }
      ]
    },
    {
      "cell_type": "code",
      "source": [
        "img1 = np.array(image.load_img(\"../subsamples/mdb207_90_mirr_tp.png\",target_size=(256,256)))\n",
        "plt.imshow(img1)\n",
        "X1 = img1.reshape(1,256, 256, 3)\n",
        "predictionsMNV2=modelMNV2.predict(X1)\n",
        "predictedMNV2 = [np.argmax(w) for w in predictionsMNV2]\n",
        "print(predictedMNV2)\n",
        "#0--Benign 1--Malignant"
      ],
      "metadata": {
        "id": "eC5Vmx-zFJZE",
        "colab": {
          "base_uri": "https://localhost:8080/",
          "height": 286
        },
        "outputId": "954d87ee-6c2c-4f0f-9e70-5f3981e65168"
      },
      "execution_count": 99,
      "outputs": [
        {
          "output_type": "stream",
          "name": "stdout",
          "text": [
            "[0]\n"
          ]
        },
        {
          "output_type": "display_data",
          "data": {
            "image/png": "[encoded data removed]",
            "text/plain": [
              "<Figure size 432x288 with 1 Axes>"
            ]
          },
          "metadata": {
            "needs_background": "light"
          }
        }
      ]
    },
    {
      "cell_type": "code",
      "source": [
        "img1 = np.array(image.load_img(\"../subsamples/mdb209_0_rotated.png\",target_size=(256,256)))\n",
        "plt.imshow(img1)\n",
        "X1 = img1.reshape(1,256, 256, 3)\n",
        "predictionsMNV2=modelMNV2.predict(X1)\n",
        "predictedMNV2 = [np.argmax(w) for w in predictionsMNV2]\n",
        "print(predictedMNV2)\n",
        "#0--Benign 1--Malignant"
      ],
      "metadata": {
        "colab": {
          "base_uri": "https://localhost:8080/",
          "height": 286
        },
        "id": "hYNyVn_0rAqV",
        "outputId": "9b379aa2-e772-4029-fb9e-d1e01a8f2124"
      },
      "execution_count": 105,
      "outputs": [
        {
          "output_type": "stream",
          "name": "stdout",
          "text": [
            "[1]\n"
          ]
        },
        {
          "output_type": "display_data",
          "data": {
            "image/png": "[encoded data removed]",
            "text/plain": [
              "<Figure size 432x288 with 1 Axes>"
            ]
          },
          "metadata": {
            "needs_background": "light"
          }
        }
      ]
    },
    {
      "cell_type": "code",
      "source": [
        "img1 = np.array(image.load_img(\"../subsamples/mdb208_90_rotated.png\",target_size=(256,256)))\n",
        "plt.imshow(img1)\n",
        "X1 = img1.reshape(1,256, 256, 3)\n",
        "predictionsMNV2=modelMNV2.predict(X1)\n",
        "predictedMNV2 = [np.argmax(w) for w in predictionsMNV2]\n",
        "print(predictedMNV2)\n",
        "#0--Benign 1--Malignant"
      ],
      "metadata": {
        "colab": {
          "base_uri": "https://localhost:8080/",
          "height": 286
        },
        "id": "DfaO3lEHrIQM",
        "outputId": "9e25e467-0d05-4d50-fa1d-1509e4889e08"
      },
      "execution_count": 101,
      "outputs": [
        {
          "output_type": "stream",
          "name": "stdout",
          "text": [
            "[0]\n"
          ]
        },
        {
          "output_type": "display_data",
          "data": {
            "image/png": "[encoded data removed]",
            "text/plain": [
              "<Figure size 432x288 with 1 Axes>"
            ]
          },
          "metadata": {
            "needs_background": "light"
          }
        }
      ]
    },
    {
      "cell_type": "code",
      "source": [
        "img1 = np.array(image.load_img(\"../subsamples/mdb312_180_mirr_tp.png\",target_size=(256,256)))\n",
        "plt.imshow(img1)\n",
        "X1 = img1.reshape(1,256, 256, 3)\n",
        "predictionsMNV2=modelMNV2.predict(X1)\n",
        "predictedMNV2 = [np.argmax(w) for w in predictionsMNV2]\n",
        "print(predictedMNV2)\n",
        "#0--Benign 1--Malignant"
      ],
      "metadata": {
        "colab": {
          "base_uri": "https://localhost:8080/",
          "height": 286
        },
        "id": "KHtxOIuFrQue",
        "outputId": "779dfb1f-91a5-4d2f-fd70-6a58955d5ecf"
      },
      "execution_count": 102,
      "outputs": [
        {
          "output_type": "stream",
          "name": "stdout",
          "text": [
            "[0]\n"
          ]
        },
        {
          "output_type": "display_data",
          "data": {
            "image/png": "[encoded data removed]",
            "text/plain": [
              "<Figure size 432x288 with 1 Axes>"
            ]
          },
          "metadata": {
            "needs_background": "light"
          }
        }
      ]
    },
    {
      "cell_type": "code",
      "source": [
        "img1 = np.array(image.load_img(\"../subsamples/mdb102_90_rotated.png\",target_size=(256,256)))\n",
        "plt.imshow(img1)\n",
        "X1 = img1.reshape(1,256, 256, 3)\n",
        "predictionsMNV2=modelMNV2.predict(X1)\n",
        "predictedMNV2 = [np.argmax(w) for w in predictionsMNV2]\n",
        "print(predictedMNV2)\n",
        "#0--Benign 1--Malignant"
      ],
      "metadata": {
        "colab": {
          "base_uri": "https://localhost:8080/",
          "height": 286
        },
        "id": "8XAvmXPKrg99",
        "outputId": "2d705e3d-401b-41f0-9743-8ac439a9dcdf"
      },
      "execution_count": 112,
      "outputs": [
        {
          "output_type": "stream",
          "name": "stdout",
          "text": [
            "[0]\n"
          ]
        },
        {
          "output_type": "display_data",
          "data": {
            "image/png": "[encoded data removed]",
            "text/plain": [
              "<Figure size 432x288 with 1 Axes>"
            ]
          },
          "metadata": {
            "needs_background": "light"
          }
        }
      ]
    },
    {
      "cell_type": "code",
      "source": [
        ""
      ],
      "metadata": {
        "id": "ckJJZfdEsKRZ"
      },
      "execution_count": null,
      "outputs": []
    }
  ]
}